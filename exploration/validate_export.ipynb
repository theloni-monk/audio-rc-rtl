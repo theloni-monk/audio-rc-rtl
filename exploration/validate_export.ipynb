{
 "cells": [
  {
   "cell_type": "code",
   "execution_count": 616,
   "metadata": {},
   "outputs": [],
   "source": [
    "from pathlib import Path\n",
    "import random"
   ]
  },
  {
   "cell_type": "code",
   "execution_count": 617,
   "metadata": {},
   "outputs": [],
   "source": [
    "import torch\n",
    "from torch import nn\n",
    "import torch.nn.functional as F"
   ]
  },
  {
   "cell_type": "code",
   "execution_count": null,
   "metadata": {},
   "outputs": [],
   "source": [
    "\n",
    "from models.lfsr import LFSR\n",
    "from models.pqmf import PQMF\n",
    "\n",
    "def mtmt(x, lin):\n",
    "    return lin(x.mT).mT\n",
    "\n",
    "def nonlin(x):\n",
    "    return torch.clamp(4*x, -1.0, 1.0)\n",
    "def reluleak128(x):\n",
    "    return F.leaky_relu(x, 1.0/128)\n",
    "    \n",
    "STEPS = 1\n",
    "class FPGA_RC(nn.Module):\n",
    "    def __init__(self):\n",
    "        super().__init__()\n",
    "        self.n_bits = 4\n",
    "        self.seed = 69\n",
    "        self.register_buffer(\"feature_pushforward\", self._gen_weights())\n",
    "        self.register_buffer(\"feature\", torch.zeros(8, 1))\n",
    "\n",
    "    def _gen_weights(self):\n",
    "        lfsr = LFSR(seed = self.seed)\n",
    "        A = torch.tensor([lfsr.gen_fxp_shift(self.n_bits) for _ in range(64)]).reshape(8,8)\n",
    "        return 0.1* A / torch.linalg.eigvals(A)[0].abs()\n",
    "\n",
    "    def step(self, x, feat):\n",
    "        pushed = nonlin(feat @ self.feature_pushforward.T + x)\n",
    "        return pushed, torch.cat((pushed, reluleak128(pushed))).flatten()\n",
    "\n",
    "    def forward(self, x, fin):\n",
    "        out = torch.zeros(1, 16, 1)\n",
    "        fout, o = self.step(x, fin)\n",
    "        out[..., 0] = o\n",
    "        return out, fout"
   ]
  },
  {
   "cell_type": "code",
   "execution_count": null,
   "metadata": {},
   "outputs": [],
   "source": [
    "\n",
    "\n",
    "#FIXME: inherit finalpipe\n",
    "class ONNXPipeline(TorchPipeline):\n",
    "    def __init__(self, inorm_var, inorm_bias):\n",
    "        super().__init__(FPGA_RC, inorm_var, inorm_bias)\n",
    "\n",
    "    def forward(self, x, f):\n",
    "        nbands = self.inorm_varscale.unsqueeze(-1) * (x - self.inorm_bias.unsqueeze(-1))\n",
    "\n",
    "        nl_tdyn, fout = self.rc(nbands, f)\n",
    "\n",
    "        ff = mtmt(nbands, self.ff)\n",
    "        \n",
    "        stacked = torch.cat((x, nbands, \n",
    "                             ff, nl_tdyn), dim=-2)\n",
    "\n",
    "        assimilated = reluleak128(self.preact_norm(self.lin_out(stacked.mT)))\n",
    "\n",
    "        return  assimilated.mean(dim=0), fout\n"
   ]
  },
  {
   "cell_type": "code",
   "execution_count": null,
   "metadata": {},
   "outputs": [],
   "source": [
    "import warnings\n",
    "from data.augmentations.randphase import AllPassFilter\n",
    "from torch_audiomentations import *\n",
    "\n",
    "#FIXME: update transforms\n",
    "with warnings.catch_warnings(action=\"ignore\"):\n",
    "    # Initialize augmentation callable\n",
    "    audio_aug = Compose(\n",
    "        transforms = [\n",
    "            PeakNormalization(p=1, output_type=\"dict\"),\n",
    "            Gain(min_gain_in_db = -1.2, max_gain_in_db=-0.8, p=1, output_type=\"dict\")\n",
    "            ],\n",
    "            output_type=\"dict\"\n",
    "        )"
   ]
  },
  {
   "cell_type": "code",
   "execution_count": null,
   "metadata": {},
   "outputs": [],
   "source": [
    "from data.torchfsdd.dataset import TorchFSDDGenerator\n",
    "pqmf = PQMF(100, 8)\n",
    "# Initialize a generator for a local version of FSDD\n",
    "fsdd = TorchFSDDGenerator(\n",
    "    version=\"local\",\n",
    "    path=\"/home/theloni/audio-rc-rtl/exploration/data/torchfsdd/recordings\",\n",
    "    val_transforms= lambda x: pqmf(audio_aug(x)[\"samples\"]),\n",
    ")\n",
    "dset = fsdd.full()\n",
    "b_rms = lambda x: x.pow(2).mean(dim=-1).mean(dim=-1).sqrt()\n",
    "NOISE_PROB = 1 / 11\n",
    "def collate_fn(batch):\n",
    "    \"\"\"Collects together sequences into a single batch, arranged in descending length order.\"\"\"\n",
    "    batch_size = len(batch)\n",
    "\n",
    "    # Sort the (sequence, label) pairs in descending order of duration\n",
    "    batch.sort(key=(lambda x: len(x[0])), reverse=True)\n",
    "    # Shape: list(tuple(tensor(TxD), int))\n",
    "\n",
    "    # Create list of sequences, and tensors for lengths and labels\n",
    "    sequences, labels = [], torch.zeros(batch_size, dtype=torch.long)\n",
    "    for i, (sequence, label) in enumerate(batch):\n",
    "        labels[i] = label\n",
    "        seq = sequence\n",
    "        dice = random.random()\n",
    "        if dice < NOISE_PROB:\n",
    "            labels[i] = 10\n",
    "            seq = pqmf(\n",
    "                b_rms(seq).unsqueeze(-1).unsqueeze(-1)\n",
    "                * torch.randn(seq.shape[0], 1, pqmf.n_band * seq.shape[-1])\n",
    "            )\n",
    "        sequences.append(seq)\n",
    "\n",
    "    # Combine sequences into a padded matrix\n",
    "    stacked_sequences = torch.cat(\n",
    "        sequences, dim=0\n",
    "    )  # torch.nn.utils.rnn.pad_sequence(sequences, batch_first=True)\n",
    "    # Shape: (B x T_max x D)\n",
    "\n",
    "    return stacked_sequences, labels\n",
    "\n",
    "BSIZE = len(dset)\n",
    "import torch.utils.data as data_utils\n",
    "loader = data_utils.DataLoader(\n",
    "        dset, collate_fn=collate_fn, batch_size=BSIZE\n",
    "    )"
   ]
  },
  {
   "cell_type": "code",
   "execution_count": 622,
   "metadata": {},
   "outputs": [],
   "source": [
    "X, y = next(iter(loader))"
   ]
  },
  {
   "cell_type": "code",
   "execution_count": 651,
   "metadata": {},
   "outputs": [],
   "source": [
    "xin = F.instance_norm(X)\n",
    "xbn = F.batch_norm(X, X.mean(dim=(0, -1)), X.var(dim=(0,-1)),training=False)"
   ]
  },
  {
   "cell_type": "code",
   "execution_count": 645,
   "metadata": {},
   "outputs": [
    {
     "name": "stdout",
     "output_type": "stream",
     "text": [
      "(tensor([0.8925, 0.7848, 0.5847, 0.5716, 0.5106, 0.4942, 0.4415, 0.3451]), tensor([0.1715, 0.2684, 0.3201, 0.3282, 0.3191, 0.3019, 0.2986, 0.2796])) (tensor([0.0222, 0.0140, 0.0047, 0.0046, 0.0032, 0.0028, 0.0025, 0.0016]), tensor([0.0191, 0.0150, 0.0057, 0.0052, 0.0037, 0.0030, 0.0031, 0.0020]))\n"
     ]
    },
    {
     "data": {
      "text/plain": [
       "(tensor(1.9073e-06),\n",
       " (tensor([ 99.1305, 143.8697, 218.5743, 219.6412, 240.0760, 248.1646, 258.4194,\n",
       "          278.1298]),\n",
       "  tensor([ 87.0100, 102.5180,  88.2860,  91.2399,  78.2092,  69.8584,  69.4159,\n",
       "           54.0525])),\n",
       " (tensor([-3.8014e-04, -1.7633e-05, -3.6144e-06,  3.0996e-06,  4.2845e-06,\n",
       "          -3.0420e-07, -2.8768e-07,  1.6553e-06]),\n",
       "  tensor([0.0009, 0.0011, 0.0002, 0.0002, 0.0002, 0.0002, 0.0001, 0.0001])))"
      ]
     },
     "execution_count": 645,
     "metadata": {},
     "output_type": "execute_result"
    }
   ],
   "source": [
    "xcrms = X.pow(2).mean(dim=-1).sqrt()\n",
    "xincrms = xin.pow(2).mean(dim=-1).sqrt()\n",
    "print((xincrms.mean(dim=0), xincrms.std(dim=0)), (xcrms.mean(dim=0), xcrms.std(dim=0)))\n",
    "in_v = X.var(dim=(2), unbiased=False).add(1e-5).sqrt().pow(-1)\n",
    "in_m = X.mean(dim=(2))\n",
    "(in_v.unsqueeze(-1)*(X -in_m.unsqueeze(-1)) - F.instance_norm(X)).abs().max(),(in_v.mean(dim=0), in_v.std(dim=0)), (in_m.mean(dim=0), in_m.std(dim=0))"
   ]
  },
  {
   "cell_type": "code",
   "execution_count": null,
   "metadata": {},
   "outputs": [
    {
     "name": "stdout",
     "output_type": "stream",
     "text": [
      "tensor([0.7525, 0.6745, 0.5842, 0.5999, 0.5541, 0.5387, 0.4925, 0.3984]) tensor([0.6499, 0.7225, 0.7090, 0.6851, 0.6342, 0.5812, 0.6080, 0.4854])\n",
      "tensor([0.0222, 0.0140, 0.0047, 0.0046, 0.0032, 0.0028, 0.0025, 0.0016]) tensor([0.0191, 0.0150, 0.0057, 0.0052, 0.0037, 0.0030, 0.0031, 0.0020])\n"
     ]
    },
    {
     "data": {
      "text/plain": [
       "(tensor(1.9073e-06),\n",
       " (tensor([ 99.1305, 143.8697, 218.5743, 219.6412, 240.0760, 248.1646, 258.4194,\n",
       "          278.1298]),\n",
       "  tensor([ 87.0100, 102.5180,  88.2860,  91.2399,  78.2092,  69.8584,  69.4159,\n",
       "           54.0525])),\n",
       " (tensor([-3.8014e-04, -1.7633e-05, -3.6144e-06,  3.0996e-06,  4.2845e-06,\n",
       "          -3.0420e-07, -2.8768e-07,  1.6553e-06]),\n",
       "  tensor([0.0009, 0.0011, 0.0002, 0.0002, 0.0002, 0.0002, 0.0001, 0.0001])))"
      ]
     },
     "execution_count": 653,
     "metadata": {},
     "output_type": "execute_result"
    },
    {
     "ename": "",
     "evalue": "",
     "output_type": "error",
     "traceback": [
      "\u001b[1;31mThe Kernel crashed while executing code in the current cell or a previous cell. \n",
      "\u001b[1;31mPlease review the code in the cell(s) to identify a possible cause of the failure. \n",
      "\u001b[1;31mClick <a href='https://aka.ms/vscodeJupyterKernelCrash'>here</a> for more info. \n",
      "\u001b[1;31mView Jupyter <a href='command:jupyter.viewOutput'>log</a> for further details."
     ]
    }
   ],
   "source": [
    "xcrms = X.pow(2).mean(dim=-1).sqrt()\n",
    "xbncrms = xbn.pow(2).mean(dim=-1).sqrt()\n",
    "print(xbncrms.mean(dim=0), xbncrms.std(dim=0))\n",
    "print(xcrms.mean(dim=0), xcrms.std(dim=0))\n",
    "b_v = X.var(dim=(2), unbiased=False).add(1e-5).sqrt().pow(-1)\n",
    "b_m = X.mean(dim=(2))\n",
    "(b_v.unsqueeze(-1)*(X -b_m.unsqueeze(-1)) - F.instance_norm(X)).abs().max(),(b_v.mean(dim=0), b_v.std(dim=0)), (b_m.mean(dim=0), b_m.std(dim=0))"
   ]
  },
  {
   "cell_type": "code",
   "execution_count": null,
   "metadata": {},
   "outputs": [
    {
     "name": "stderr",
     "output_type": "stream",
     "text": [
      "/net/flood/home/theloni/audio-rc-rtl/exploration/models/lfsr.py:20: UserWarning: To copy construct from a tensor, it is recommended to use sourceTensor.clone().detach() or sourceTensor.clone().detach().requires_grad_(True), rather than torch.tensor(sourceTensor).\n",
      "  self.poly_degrees = torch.tensor(polydegrees)\n"
     ]
    }
   ],
   "source": [
    "paramdict = {'bands': 8, 'bits': 4, 'spec_rad': 0.1}\n",
    "uut_vmap =  TorchPipeline(VMAP_RC)\n",
    "\n",
    "def load_model(m, folder, mdevice='cpu'):\n",
    "    ckpt_path = Path(folder)\n",
    "    fnames = [f.name for f in ckpt_path.iterdir() if f.is_file()]\n",
    "    fpnames = [n.split(\".ten\")[0] for n in fnames]\n",
    "    print(ckpt_path, \"\\n\", fnames, \"\\n\",fpnames)\n",
    "    print(\"targeting\", [n for n, _ in m.named_parameters()])\n",
    "    epoch = int(folder.split(\"epoch\")[-1])\n",
    "    for pname, p in m.named_parameters():\n",
    "        assert (\n",
    "            pname in fpnames\n",
    "        ), f\"Unable to locate parameter {pname} in given checkpoint dir\"\n",
    "        loaded = torch.load(ckpt_path / fnames[fpnames.index(pname)]).to(mdevice)\n",
    "        print(\"setting\", pname, \"to loaded value from\", fnames[fpnames.index(pname)])\n",
    "        p.data = loaded\n",
    "\n",
    "    return epoch"
   ]
  },
  {
   "cell_type": "code",
   "execution_count": 626,
   "metadata": {},
   "outputs": [
    {
     "name": "stdout",
     "output_type": "stream",
     "text": [
      "models/rc8.3/epoch299 \n",
      " ['ff1.bias.tensor', 'ff1.weight.tensor', 'ff2.bias.tensor', 'ff2.weight.tensor', 'lin_out.bias.tensor', 'lin_out.weight.tensor', 'preact_norm.bias.tensor', 'preact_norm.weight.tensor'] \n",
      " ['ff1.bias', 'ff1.weight', 'ff2.bias', 'ff2.weight', 'lin_out.bias', 'lin_out.weight', 'preact_norm.bias', 'preact_norm.weight']\n",
      "targeting ['ff1.weight', 'ff1.bias', 'ff2.weight', 'ff2.bias', 'lin_out.weight', 'lin_out.bias', 'preact_norm.weight', 'preact_norm.bias']\n",
      "setting ff1.weight to loaded value from ff1.weight.tensor\n",
      "setting ff1.bias to loaded value from ff1.bias.tensor\n",
      "setting ff2.weight to loaded value from ff2.weight.tensor\n",
      "setting ff2.bias to loaded value from ff2.bias.tensor\n",
      "setting lin_out.weight to loaded value from lin_out.weight.tensor\n",
      "setting lin_out.bias to loaded value from lin_out.bias.tensor\n",
      "setting preact_norm.weight to loaded value from preact_norm.weight.tensor\n",
      "setting preact_norm.bias to loaded value from preact_norm.bias.tensor\n"
     ]
    }
   ],
   "source": [
    "with torch.no_grad():\n",
    "    load_model(uut_vmap, \"models/rc8.3/epoch299\")\n",
    "    uut_vmap.eval()"
   ]
  },
  {
   "cell_type": "code",
   "execution_count": 627,
   "metadata": {},
   "outputs": [
    {
     "data": {
      "text/plain": [
       "(TorchPipeline(\n",
       "   (rc): VMAP_RC()\n",
       "   (ff1): Linear(in_features=8, out_features=24, bias=True)\n",
       "   (ff2): Linear(in_features=24, out_features=16, bias=True)\n",
       "   (lin_out): Linear(in_features=48, out_features=11, bias=True)\n",
       "   (preact_norm): BatchNorm1d(11, eps=1e-05, momentum=0.1, affine=True, track_running_stats=True)\n",
       " ),\n",
       " [('ff1.weight',\n",
       "   192,\n",
       "   device(type='cpu'),\n",
       "   tensor([[-2.1504e-02,  1.2400e-01, -7.6970e-01,  4.4548e+00, -1.1558e-01,\n",
       "            -1.1768e-02, -6.2711e-01, -6.5044e-01],\n",
       "           [ 9.7532e-01,  2.2537e-01,  1.2142e+00, -1.7328e+00,  1.8067e-01,\n",
       "            -8.9448e-01, -1.5824e+00, -4.7276e-01],\n",
       "           [ 4.5275e-02,  1.1039e-02, -2.5860e-01,  1.1913e-01,  5.9513e-01,\n",
       "            -1.1426e+00, -3.8887e+00, -1.5814e-01],\n",
       "           [ 2.7645e+00, -2.8629e-01, -4.1546e-01, -2.1212e-01, -3.0485e-01,\n",
       "            -7.4737e-01, -6.2485e-01,  4.9044e-01],\n",
       "           [ 4.4505e-01,  8.0412e-02, -2.4448e-01,  3.9581e-01,  1.0937e+00,\n",
       "            -3.6632e+00,  1.6360e-01, -5.0879e-01],\n",
       "           [ 1.3221e+00, -2.0235e+00,  9.8845e-01,  8.4500e-01, -5.4035e-01,\n",
       "            -6.6531e-02, -2.3337e-01, -1.0508e+00],\n",
       "           [-1.9526e+00, -9.7602e-01, -7.4319e-01, -8.5821e-01,  3.6903e-01,\n",
       "            -2.0041e-01,  3.6280e-02, -1.0775e+00],\n",
       "           [ 4.1800e-01, -7.7787e-01, -1.9346e+00,  1.5554e+00,  4.0380e-01,\n",
       "             6.9960e-02, -2.9961e-01, -1.3584e+00],\n",
       "           [-3.9200e-02, -7.2796e-02, -3.0412e+00, -3.0441e-01, -3.5568e-02,\n",
       "             1.8112e-01, -3.0655e-01, -3.5340e-01],\n",
       "           [-2.2620e+00,  5.9340e-01,  1.5135e-01,  3.5029e-01,  2.4902e-01,\n",
       "             1.6210e-01, -3.7793e-01,  3.5277e-01],\n",
       "           [-1.0728e+00, -2.9385e-03,  2.1887e+00, -1.6963e-01,  1.6378e-01,\n",
       "            -9.8672e-01,  2.5668e-02, -2.0736e-01],\n",
       "           [-3.5825e-01, -9.9154e-01, -3.9894e-02, -5.0488e-01, -7.0721e-01,\n",
       "            -2.6387e-01, -6.1238e-01,  1.9588e+00],\n",
       "           [-4.6900e-02, -7.0629e-02,  3.4038e+00,  5.3778e-02,  2.6794e-02,\n",
       "            -5.5395e-02,  2.5011e-02, -1.6052e-01],\n",
       "           [-8.9928e-01,  4.0320e-01,  6.2353e-01, -2.7081e-01,  1.1701e-01,\n",
       "             3.3493e+00, -1.3847e-01, -2.7900e-01],\n",
       "           [-6.4622e-01,  3.7725e-02, -1.8445e-01,  6.2025e-02,  2.8409e+00,\n",
       "             8.1243e-01,  8.0825e-01, -1.9881e-03],\n",
       "           [ 9.9960e-01, -6.1475e-01, -1.0734e+00,  2.3791e+00,  1.1935e+00,\n",
       "             2.5958e+00,  1.4096e+00, -1.4704e+00],\n",
       "           [ 8.9759e-01, -6.9485e-01, -1.5114e+00, -4.7520e-01, -1.5304e-01,\n",
       "             1.7213e-02,  2.1791e+00,  7.3892e-01],\n",
       "           [ 1.7600e-02, -8.4121e-02, -4.8617e-01, -4.5673e+00, -2.3959e-01,\n",
       "             5.8503e-02, -3.6535e-01, -7.3180e-02],\n",
       "           [-2.3745e+00, -1.1685e+00,  9.5097e-01, -3.0671e-01,  1.7828e+00,\n",
       "             5.2585e-02,  6.2397e-01,  6.4870e-01],\n",
       "           [ 5.4518e-02,  3.5210e+00, -1.4083e-01,  2.7141e-01, -2.1021e-01,\n",
       "            -3.9723e-01, -5.8972e-01,  1.0194e-01],\n",
       "           [ 3.5108e-01,  1.4644e+00,  5.7109e-02,  2.0908e+00, -7.2256e-02,\n",
       "             3.8598e-02,  4.5292e-01,  2.6367e-01],\n",
       "           [-6.9421e-01, -3.3182e+00, -8.5915e-03,  4.7925e-01, -3.5761e-01,\n",
       "             3.5683e-01, -2.8799e-01, -1.1383e-01],\n",
       "           [-2.9819e-01, -4.1388e-02,  1.2147e-01,  1.4804e-01, -2.9826e+00,\n",
       "            -5.5008e-01, -2.0872e-02, -4.7522e-01],\n",
       "           [-1.7355e-02, -1.0719e-01, -1.7438e-01, -1.4890e+00, -1.3323e+00,\n",
       "             2.5248e+00,  2.3999e-01, -3.9486e-01]])),\n",
       "  ('ff1.bias',\n",
       "   24,\n",
       "   device(type='cpu'),\n",
       "   tensor([-0.0177, -4.1844, -0.0414, -1.6806, -2.4715, -2.0264, -4.8743, -2.9270,\n",
       "           -0.8003, -2.6072, -3.8486, -2.1373, -0.1988, -5.1418, -1.8734, -0.9600,\n",
       "           -3.5324, -0.0638, -0.4678, -0.5828, -3.5416, -1.1375, -0.6731, -0.0204])),\n",
       "  ('ff2.weight',\n",
       "   384,\n",
       "   device(type='cpu'),\n",
       "   tensor([[-1.7918e+00,  1.3392e+00, -9.9441e-01,  1.6489e+00,  8.8320e-01,\n",
       "             1.2540e+00,  2.7977e+00,  7.4805e-01, -5.3516e-01, -2.8565e-02,\n",
       "            -1.6538e-01,  7.8941e-01, -1.1716e+00,  1.0914e+00, -1.7875e+00,\n",
       "            -4.7297e-02,  1.1032e+00, -1.7730e+00,  1.0968e+00,  2.3255e+00,\n",
       "             1.0276e+00,  1.7160e+00, -3.2013e-01, -1.5666e+00],\n",
       "           [ 9.4266e-01, -3.1934e+00, -2.0066e+00, -2.3039e+00,  3.8130e-01,\n",
       "             1.5030e+00, -2.3008e+00, -3.8052e+00, -3.8092e-01, -9.8785e-01,\n",
       "             5.0860e-01, -3.6852e-01, -8.2246e-01,  2.1095e+00,  1.1686e+00,\n",
       "            -1.1843e+00, -3.0058e+00,  1.0943e+00, -1.0524e+00,  1.1270e+00,\n",
       "             4.5260e-01,  1.9820e+00, -6.1096e-02, -4.7387e-01],\n",
       "           [-4.4893e+00, -6.8971e+00,  4.2504e-01,  1.8606e+00,  1.3678e+00,\n",
       "             1.2546e+00, -7.3352e-01,  3.0754e+00, -4.3005e+00,  1.4806e+00,\n",
       "            -3.4785e+00, -1.0382e-01, -2.9197e+00,  2.1003e+00,  1.6676e+00,\n",
       "            -1.2454e+00, -2.1776e+00, -2.6971e+00,  7.1355e-01,  3.5222e-01,\n",
       "             3.3262e+00,  2.9854e-01,  2.5384e+00, -4.5947e-01],\n",
       "           [-5.8281e-01,  2.2059e-01, -3.2997e+00,  1.8640e+00,  2.0702e+00,\n",
       "            -1.8322e+00, -9.9031e+00, -1.1379e+00,  2.2571e-01, -4.7414e+00,\n",
       "             4.0575e-01,  2.1228e+00,  1.2396e-01, -2.7046e-01, -6.8421e+00,\n",
       "            -5.8128e+00, -2.2661e+00, -8.9225e-01, -3.7129e+00, -2.9004e-01,\n",
       "             1.0588e+00,  2.3548e+00,  1.4466e+00,  2.4123e-01],\n",
       "           [ 6.1211e-01,  1.8788e+00, -9.5244e-01,  3.1614e+00,  1.6512e-01,\n",
       "            -4.7275e-01,  1.0290e+00, -7.9374e-01, -2.5122e-01,  2.1344e+00,\n",
       "             4.7517e+00, -1.0018e+00, -2.9661e+00,  2.5664e+00,  5.4427e-01,\n",
       "             1.8888e-02, -3.2989e-02, -2.1658e-01,  8.9053e-01, -3.3600e+00,\n",
       "             1.8193e+00, -2.2747e+00,  1.4095e+00,  2.4119e-01],\n",
       "           [ 7.3234e-01, -1.6293e+00,  1.8120e-01, -1.5605e+00,  4.2860e+00,\n",
       "            -2.8736e+00, -1.1146e+00, -4.0450e+00, -4.6409e-01, -1.0081e+01,\n",
       "            -9.1707e+00,  3.2192e-01,  1.0479e+00,  4.2732e-02,  4.9098e-01,\n",
       "            -6.6460e-01, -6.1524e-01, -6.7687e-02, -9.4410e-02, -4.2521e-01,\n",
       "            -1.0503e+01, -2.1413e+00,  2.1579e+00, -9.5192e-01],\n",
       "           [-2.2757e+00,  2.4480e+00, -1.3991e-01, -2.3959e+00, -2.8940e+00,\n",
       "            -9.2170e+00,  8.5194e-01,  3.9294e-01,  5.3346e-01, -4.3277e-01,\n",
       "             5.4851e-01,  2.1653e+00,  4.8963e-01,  3.8904e+00,  3.0713e+00,\n",
       "            -1.1467e+00,  2.7039e+00, -2.1649e+00, -4.3849e+00,  1.6241e+00,\n",
       "            -1.0869e+00, -2.0563e-02, -1.3229e+00, -3.2481e+00],\n",
       "           [ 7.5017e-01,  2.0401e+00, -2.2612e+00,  5.7033e-01,  5.7943e-01,\n",
       "             1.8903e+00,  2.0161e+00,  2.9999e-01, -1.5122e+00,  1.6095e+00,\n",
       "             1.0882e+00,  4.9657e-01, -1.6610e+00,  2.3105e+00,  2.0258e-01,\n",
       "            -5.7053e-01,  1.4742e-01,  4.7478e-01, -2.0490e-01,  1.0517e+00,\n",
       "            -2.7104e-02,  3.0039e-01, -4.8992e-01,  5.8139e-01],\n",
       "           [ 1.2626e+00, -5.4650e+00,  4.4729e-01, -8.1211e-01, -2.7739e-01,\n",
       "            -6.8656e-01, -5.1406e+00, -3.3982e+00, -2.7662e-01, -5.0998e+00,\n",
       "            -4.1790e+00, -1.2895e+00, -3.8154e-01, -6.2903e+00,  3.6284e-01,\n",
       "             1.7993e+00, -3.3469e+00,  1.0512e+00,  1.0861e+00, -5.2042e+00,\n",
       "            -1.6791e+00, -8.6198e+00,  1.4780e+00,  1.4341e+00],\n",
       "           [-4.5504e+00, -3.4483e-01, -3.6129e+00, -1.8425e+00, -5.4806e+00,\n",
       "            -2.9997e-01,  5.8255e+00, -2.5424e+00, -8.8869e+00, -6.8886e-01,\n",
       "            -1.4220e+00,  6.0646e-01,  7.7601e-01,  3.7591e+00,  7.2042e-01,\n",
       "            -2.5269e+00,  2.4069e+00, -2.3930e+00, -1.0559e+00,  2.1454e+00,\n",
       "            -4.6082e+00, -4.5085e+00, -5.8584e+00, -5.1582e-01],\n",
       "           [-8.2124e-02,  1.9756e-01, -1.0997e+00, -1.2064e+00, -8.8369e-01,\n",
       "             1.2188e+00, -9.5988e-01,  9.6969e-01,  1.8128e+00, -5.9231e-01,\n",
       "             3.4754e+00,  1.4185e+00,  5.2329e-01,  3.4854e+00, -1.5790e+00,\n",
       "            -1.4442e+00,  1.9854e+00, -4.7124e-01, -1.3481e+00,  9.9714e-01,\n",
       "             3.4205e-01,  1.5011e+00, -2.6002e+00, -1.4845e+00],\n",
       "           [ 1.3027e-01,  5.8911e-01,  5.3958e-01,  1.5305e+00, -4.1545e-01,\n",
       "             1.4705e+00,  1.6544e+00,  3.1743e-02, -3.3648e+00, -1.6463e+00,\n",
       "            -2.2783e+00, -1.5340e+00, -2.7780e+00, -3.1419e+00,  1.6485e+00,\n",
       "            -1.3286e-01,  2.5181e+00, -6.3208e-01,  1.2403e+00,  3.3347e-01,\n",
       "             2.5653e+00, -1.0371e+00, -3.5045e-01,  1.1186e+00],\n",
       "           [-1.9590e+00,  3.3467e+00,  8.5446e-01, -1.6933e+00, -3.6309e+00,\n",
       "            -5.9621e+00,  7.8622e-01,  1.5920e+00,  1.3766e+00, -6.1868e+00,\n",
       "             9.9404e-01,  3.3705e+00, -3.3732e-01,  3.3831e+00, -2.4119e+00,\n",
       "             3.8473e-01,  2.8012e+00, -5.6406e+00, -9.7822e-02,  1.1644e+00,\n",
       "            -2.8416e+00, -1.5607e+00, -4.5711e+00,  5.2167e-01],\n",
       "           [ 1.3226e-02,  1.0965e+00, -5.3543e-01, -2.4774e+00,  1.2508e+00,\n",
       "            -2.4870e-03,  5.0918e-01, -6.4654e-01,  6.3791e-01,  1.7612e-01,\n",
       "             2.0988e+00,  7.3688e-01,  1.6598e+00,  1.0240e+00,  2.8365e+00,\n",
       "            -6.3765e-01,  2.1450e+00, -1.4819e-01, -2.8110e+00,  3.0961e-02,\n",
       "             1.2676e+00,  7.4952e-01,  1.6173e+00, -4.5429e-01],\n",
       "           [ 6.0255e-01,  2.1041e+00, -1.5985e-01,  1.2550e+00, -6.3757e+00,\n",
       "             9.7539e-01,  6.3956e+00,  1.1080e+00,  5.3406e-01,  2.2772e+00,\n",
       "             1.4808e+00, -2.1320e+00,  1.4015e+00, -7.2604e+00, -1.1795e+01,\n",
       "            -6.9878e-01,  1.5272e+00,  3.6400e-01, -4.0947e+00, -7.6108e-01,\n",
       "            -4.4960e-01, -2.3620e+00, -4.5890e+00, -1.1097e+00],\n",
       "           [-6.2255e-01,  1.2091e+00, -2.7647e-01, -3.5604e+00,  1.6429e+00,\n",
       "             3.4594e-01, -2.2157e-02, -6.5241e+00, -2.8760e+00, -1.0104e-01,\n",
       "             9.2498e-02, -2.0809e+00, -2.0489e+00, -1.0195e+00,  7.8504e-01,\n",
       "             1.5082e+00, -1.4982e+00,  1.6980e+00, -1.5388e+00, -3.4703e+00,\n",
       "            -3.5385e+00, -1.6147e+00,  1.6376e+00,  1.1635e+00]])),\n",
       "  ('ff2.bias',\n",
       "   16,\n",
       "   device(type='cpu'),\n",
       "   tensor([ 0.3504, -1.9563, -1.2406, -0.9838, -1.5700, -3.2885, -0.3903, -3.0598,\n",
       "           -0.7428, -0.8940, -1.3741, -0.1799, -2.3569, -4.0224, -0.8087, -0.5778])),\n",
       "  ('lin_out.weight',\n",
       "   528,\n",
       "   device(type='cpu'),\n",
       "   tensor([[-3.4857e+01,  7.7548e+00,  5.6210e-01,  4.3845e+00, -7.1019e+00,\n",
       "            -1.9119e+00, -1.0974e+01, -8.7628e+00, -5.3847e+00,  5.3160e-01,\n",
       "             3.8040e-01, -4.1880e-03, -1.6023e+00, -1.5730e-01, -2.9024e+00,\n",
       "            -6.4916e+00,  7.6046e-01,  5.2178e-01, -3.6280e+00,  9.6011e-01,\n",
       "             2.8709e+00,  3.2109e-01,  1.9297e+00, -1.1127e+00, -2.8402e+00,\n",
       "             8.3709e-01,  1.5470e+00,  1.2456e+00, -2.7466e-01, -2.0433e+00,\n",
       "             7.0166e-01,  1.3775e+00, -2.2614e+00,  7.7764e-01,  3.2557e-01,\n",
       "            -4.5514e-03,  1.1309e+00, -1.3881e-01, -8.8372e-01, -3.2135e-01,\n",
       "             1.3328e+00,  1.2217e+00, -1.2119e+00,  9.1259e-01, -1.7770e+00,\n",
       "            -2.5889e+00,  9.4521e-01, -8.5872e-02],\n",
       "           [ 1.1858e+01, -1.3295e+01, -4.1206e-01,  7.6174e+00,  4.8987e+00,\n",
       "             1.6636e+00, -1.2782e+00,  8.0405e-01, -5.2121e+00, -3.8437e-01,\n",
       "            -1.2564e+00, -6.0984e+00, -2.7891e+00, -3.8844e+00,  8.6470e-01,\n",
       "            -1.6492e+00,  1.0362e+00, -1.0163e+00,  2.1164e+00, -5.4464e+00,\n",
       "            -3.9679e-02, -3.0068e+00,  5.7692e-01, -7.2531e-01,  1.9254e+00,\n",
       "             8.0507e-01,  1.1279e+00, -2.3560e-01,  2.9198e+00,  2.1294e+00,\n",
       "             4.1337e-01, -4.5001e+00, -5.6275e-02,  2.0645e+00, -4.8600e-02,\n",
       "            -1.5660e+00, -1.0732e+00, -4.8517e-01, -1.0626e+00,  1.1574e+00,\n",
       "             1.2948e+00, -5.3830e-01, -9.9799e-03, -5.3845e+00, -3.7559e+00,\n",
       "            -8.2117e-01, -4.6925e-01,  5.8953e-01],\n",
       "           [ 1.4458e+01, -2.2024e+01,  2.5062e+01, -8.0480e-02, -9.6459e+00,\n",
       "            -2.6061e+01,  1.9123e+01, -2.4684e+01,  2.6306e+00,  5.0804e+00,\n",
       "            -3.6609e+00, -5.3144e+00,  5.3541e+00,  3.7471e+00,  1.9485e+00,\n",
       "             5.2266e+00,  1.5317e+00, -2.7974e-01, -1.8742e+00, -7.5830e+00,\n",
       "             1.5283e+00, -5.9749e+00, -3.2287e-01, -8.2919e-01, -7.7151e+00,\n",
       "            -2.0374e+00, -4.9155e+00,  6.7882e-01,  5.5440e+00, -5.9080e-01,\n",
       "             2.0848e+00, -1.1174e+00,  3.7835e+00, -2.6143e+00, -3.0375e+00,\n",
       "             2.6462e+00,  8.7045e-01,  4.9167e-01, -2.5142e+00, -2.3617e+00,\n",
       "            -9.8265e-01,  5.7071e-01,  1.5614e+00, -7.1385e-01, -3.3056e-02,\n",
       "            -2.8712e+00,  2.0028e+00, -3.1223e+00],\n",
       "           [-1.7045e+01,  1.2227e+01,  1.3786e+01, -6.2818e+00, -9.1987e-01,\n",
       "             1.0105e+00, -4.3961e+00, -4.2050e+00, -4.6808e+00,  5.1502e+00,\n",
       "             5.5635e+00,  1.8392e+00, -1.2946e+00,  1.5396e+00,  2.4188e+00,\n",
       "            -2.3753e+00, -9.1603e-01, -1.1005e+01,  6.3098e-01,  9.5954e-01,\n",
       "             1.8685e-01, -3.4701e+00, -5.6798e+00,  1.7545e+00, -2.5743e+00,\n",
       "            -4.5156e+00,  1.1585e+00,  2.1065e+00,  2.1174e+00, -1.8634e+00,\n",
       "             1.7335e+00,  5.8426e-01, -1.5468e+00, -1.9754e+00, -7.1786e-01,\n",
       "             2.0753e-01,  1.8500e+00,  3.2367e+00, -1.9512e+00, -1.1282e+00,\n",
       "            -8.9135e-01,  1.8569e-01,  3.9451e-01,  2.6784e-01,  2.1856e+00,\n",
       "             8.1087e-01,  2.8433e-01, -1.5763e+00],\n",
       "           [ 3.9556e+01, -2.7994e+01,  1.4086e+01,  2.9674e+00,  2.1830e+00,\n",
       "             8.2039e+00,  4.5650e+00, -8.7084e+00,  1.4103e+00, -1.1915e+00,\n",
       "             2.6766e+00,  4.1275e+00, -6.2099e-01,  4.6044e-01, -6.3638e-03,\n",
       "             7.1980e-01,  2.3330e+00, -1.2837e+00,  1.1620e+00, -1.0092e+00,\n",
       "            -2.2023e+00, -7.3699e-01,  8.3392e-01, -1.1518e+00,  7.5173e-01,\n",
       "            -1.2051e+00, -1.4483e+00,  1.9761e-01, -2.3368e+00,  1.8294e+00,\n",
       "             1.8696e+00, -3.5892e+00, -3.4903e-02, -9.5819e-01,  1.7174e+00,\n",
       "            -1.3106e-01,  1.9901e+00,  2.5812e+00, -1.3346e+00,  6.0914e-02,\n",
       "             1.5801e-01,  1.0323e+00,  1.0442e+00, -1.2012e+00, -2.4046e+00,\n",
       "            -3.1714e+00, -4.9633e-02, -2.9578e+00],\n",
       "           [-2.9995e+01, -1.8013e+01, -2.6240e+01, -1.1158e+01, -7.4582e+00,\n",
       "            -1.8793e+00, -1.3494e+01,  3.2696e+00,  4.7247e+00, -1.5889e+00,\n",
       "            -2.6446e+00, -2.4443e+00, -2.6089e+00, -7.0782e-01, -1.4307e+00,\n",
       "            -2.8077e+00,  1.5907e+00,  1.0272e+00, -8.7945e+00,  1.6729e+00,\n",
       "            -3.9471e+00, -1.7602e+00,  4.4813e+00,  1.3992e-01, -1.0583e+00,\n",
       "            -8.1383e-01,  7.6436e-01, -3.2744e+00,  1.0211e+00,  1.4435e+00,\n",
       "            -1.9031e+00,  1.3117e+00,  1.4277e+00,  2.5199e+00,  1.7217e+00,\n",
       "            -1.4661e+00,  2.4154e+00, -1.0129e+00,  4.3515e+00, -9.2751e-01,\n",
       "            -2.7501e-01, -2.1026e+00, -3.3802e+00, -6.5651e-01,  1.7054e+00,\n",
       "            -2.1863e+00, -2.0174e+00,  6.8447e-01],\n",
       "           [-2.6786e+01, -2.1596e+01,  1.7910e+01,  3.0771e+00, -2.5287e+01,\n",
       "             1.3715e+01, -9.1935e+00,  8.4976e+00,  3.0492e+00,  1.2724e+00,\n",
       "             5.7889e+00,  6.1343e-01, -2.4164e+00, -1.6990e+00, -1.2847e+00,\n",
       "             1.7245e-01,  5.8114e-01, -3.6008e+00, -9.4159e-01, -1.5577e+00,\n",
       "             1.2838e+00,  3.0031e-01,  1.1491e-01,  2.5725e+00,  4.8373e-01,\n",
       "             3.4854e+00, -2.4220e+00,  8.6294e-01, -2.6419e+00,  4.3824e-01,\n",
       "            -2.0896e+00, -3.9541e+00, -5.6339e+00,  4.9995e-01,  2.6528e+00,\n",
       "             5.6802e-02, -5.6296e-01,  3.7452e+00, -1.8771e+00,  3.2540e+00,\n",
       "            -5.9911e+00, -6.4767e-01, -2.5102e+00, -9.3600e-01, -4.5780e+00,\n",
       "            -3.4569e+00, -4.5075e+00,  1.6794e+00],\n",
       "           [ 1.6570e+01,  1.0270e+01, -1.4411e+01, -3.7531e+00, -8.9335e+00,\n",
       "            -3.7992e+00,  5.0667e+00,  7.7004e-01, -2.9997e+00,  1.2652e+00,\n",
       "            -3.1839e+00, -7.6240e+00,  4.0272e+00,  3.7239e+00,  9.8544e-01,\n",
       "             5.5238e+00,  1.9167e+00,  1.1267e+00, -4.6868e+00, -6.7563e-01,\n",
       "            -1.3185e-01, -6.3917e+00, -2.7801e+00,  1.7160e+00,  3.7286e-01,\n",
       "             1.1294e+00, -1.9859e+00, -5.1407e-01, -1.8535e+00,  2.3133e+00,\n",
       "             1.2015e-01, -9.7602e+00, -2.0966e+00, -6.5494e-01,  1.1492e+00,\n",
       "            -1.0473e+00,  8.9803e-01, -2.8515e+00,  2.6593e+00,  1.2649e+00,\n",
       "             9.9077e-01,  3.8226e-01, -2.0783e+00,  1.7133e-01, -8.7150e-02,\n",
       "             5.1466e-01, -2.0327e+00, -5.5087e-01],\n",
       "           [ 5.1044e-01, -1.8008e+01,  4.9947e+00,  7.4073e+00,  3.1448e+01,\n",
       "             2.7223e+00,  4.3695e+00,  4.7311e+00,  3.5927e+00, -1.2567e+00,\n",
       "            -4.5851e+00,  8.5327e-04,  2.4236e+00, -3.4440e+00,  2.6595e+00,\n",
       "            -6.6980e-01, -3.4166e-01,  2.7236e+00,  2.6389e+00, -5.9704e-01,\n",
       "             1.6921e+00, -5.1701e+00,  2.5945e+00,  4.3665e-01,  3.6788e-01,\n",
       "            -4.8797e+00, -2.9123e+00,  3.5501e-01, -1.8686e-01,  7.5854e-01,\n",
       "            -2.7890e+00, -2.4835e+00, -4.7823e+00,  3.5084e+00, -1.4512e+00,\n",
       "             2.1543e+00, -1.6160e+00,  1.8128e-01, -5.5318e-01,  1.4501e+00,\n",
       "            -1.4986e+00, -2.0214e+00, -2.3940e+00, -2.9315e+00,  2.0899e+00,\n",
       "             2.3797e+00, -2.6496e+00,  8.0864e-01],\n",
       "           [ 1.4895e+01, -3.1005e+00,  1.3149e+00,  1.2649e+00,  1.4099e+01,\n",
       "             1.7058e+01, -5.9755e+00,  1.4465e+01, -5.8239e+00,  2.9865e+00,\n",
       "            -3.0252e+00,  1.0807e-01, -3.5333e+00, -4.0136e-01, -2.8502e+00,\n",
       "             5.3011e+00,  7.6566e-01,  1.6039e+00, -8.2365e+00, -1.0730e+01,\n",
       "            -4.2269e+00, -3.1322e+00, -1.6119e+00, -1.3366e-01, -4.9311e-01,\n",
       "             3.1708e+00,  1.3227e+00,  1.8881e+00, -7.6529e+00,  2.3908e+00,\n",
       "             1.3961e-01,  1.6533e-01, -1.6973e-01,  1.0728e+00,  3.2668e+00,\n",
       "             1.6216e+00,  1.6656e-01, -1.3791e+00,  8.8349e-02,  7.6674e-01,\n",
       "             3.6790e-01, -2.1829e+00, -9.5450e-01,  6.2171e-01, -2.0451e+00,\n",
       "             1.6399e+00, -1.3667e+00, -2.0095e+00],\n",
       "           [ 2.4971e+01,  2.2462e+00, -8.1286e+00, -1.6899e+01,  1.4459e+01,\n",
       "            -1.2840e+01,  1.4039e+01,  1.2884e+00, -1.3066e+00,  3.5829e+00,\n",
       "             2.0060e+00,  2.7078e+00, -1.5276e+00,  5.6931e+00, -2.3926e+00,\n",
       "            -4.0299e+00, -1.8971e+00,  1.3793e+00,  1.5038e+00,  3.2177e-01,\n",
       "            -1.9767e+00, -7.0504e-01,  2.2600e+00,  7.0857e-02, -1.2480e+00,\n",
       "            -2.4991e+00,  1.2827e+00,  2.5149e-01,  1.5354e+00,  5.2507e-01,\n",
       "            -1.7386e+00,  5.4544e-01, -2.2860e+00, -1.4605e+00, -6.5869e-01,\n",
       "             2.8521e-01, -2.3996e-01, -8.1492e-01, -8.3003e-01,  9.0612e-01,\n",
       "             2.3649e+00,  2.3184e+00,  1.9611e+00,  1.6607e+00,  1.8574e+00,\n",
       "             3.9538e-01,  7.4247e-01, -9.6907e-02]])),\n",
       "  ('lin_out.bias',\n",
       "   11,\n",
       "   device(type='cpu'),\n",
       "   tensor([-0.0970, -0.9684, -0.9063, -0.7599, -0.3380, -0.5299, -0.9425,  0.1079,\n",
       "           -0.7097,  0.7079,  0.6412])),\n",
       "  ('preact_norm.weight',\n",
       "   11,\n",
       "   device(type='cpu'),\n",
       "   tensor([1.9126, 2.1278, 2.9810, 2.5922, 2.2887, 2.4164, 2.7473, 1.9217, 2.1169,\n",
       "           1.9413, 1.9785])),\n",
       "  ('preact_norm.bias',\n",
       "   11,\n",
       "   device(type='cpu'),\n",
       "   tensor([ 0.1809, -0.8081, -0.8041, -0.5243, -0.1321, -0.4188, -0.7986,  0.2907,\n",
       "           -0.5527,  0.4990,  1.0606]))],\n",
       " [('preact_norm.running_mean',\n",
       "   tensor([0., 0., 0., 0., 0., 0., 0., 0., 0., 0., 0.])),\n",
       "  ('preact_norm.running_var',\n",
       "   tensor([1., 1., 1., 1., 1., 1., 1., 1., 1., 1., 1.])),\n",
       "  ('preact_norm.num_batches_tracked', tensor(0))])"
      ]
     },
     "execution_count": 627,
     "metadata": {},
     "output_type": "execute_result"
    }
   ],
   "source": [
    "uut_vmap, [(n,p.numel(), p.device, p.data) for n,p in uut_vmap.named_parameters()], [(n,b.data) for n,b in uut_vmap.named_buffers()], "
   ]
  },
  {
   "cell_type": "code",
   "execution_count": 628,
   "metadata": {},
   "outputs": [],
   "source": [
    "import numpy as np\n",
    "import matplotlib.pyplot as plt\n",
    "from sklearn.metrics import confusion_matrix\n",
    "import seaborn as sns\n",
    "\n",
    "pltr = lambda x: x.cpu().detach().numpy()"
   ]
  },
  {
   "cell_type": "code",
   "execution_count": 629,
   "metadata": {},
   "outputs": [
    {
     "data": {
      "text/plain": [
       "(tensor(0.0896),\n",
       " torch.Size([2979, 8, 1024]),\n",
       " torch.Size([2979]),\n",
       " torch.Size([2979, 11]))"
      ]
     },
     "execution_count": 629,
     "metadata": {},
     "output_type": "execute_result"
    }
   ],
   "source": [
    "batched_uut = torch.vmap(uut_vmap)\n",
    "# batched_uut = uut_vmap\n",
    "acc = []\n",
    "Xs,ys,yhats=[],[],[]\n",
    "def testcpu():\n",
    "    batches=0\n",
    "    for X, y in loader:\n",
    "        if X.shape[0] != BSIZE:\n",
    "            continue\n",
    "        Xs.append(X)\n",
    "        ys.append(y)\n",
    "        yhat = batched_uut(X)\n",
    "        yhats.append(yhat)\n",
    "        acc.append((yhat.argmax(-1) == y).sum() / y.numel())\n",
    "        batches += 1\n",
    "    return sum(acc)/batches\n",
    "\n",
    "acc = testcpu()\n",
    "X, y, yhat = map(torch.cat, (Xs, ys, yhats))\n",
    "acc, X.shape, y.shape, yhat.shape"
   ]
  },
  {
   "cell_type": "code",
   "execution_count": 631,
   "metadata": {},
   "outputs": [
    {
     "data": {
      "image/png": "[encoded data removed]",
      "text/plain": [
       "<Figure size 640x480 with 1 Axes>"
      ]
     },
     "metadata": {},
     "output_type": "display_data"
    }
   ],
   "source": [
    "def plothist():\n",
    "    f, ax = plt.subplots()\n",
    "\n",
    "    ax.set_title(\"Digit Model Distribution histogram (10 := Noise)\")\n",
    "    ax.hist(pltr(y.flatten()), bins=np.arange(0, 11 + 1, 1), label=\"digit counts\")\n",
    "    ax.hist(\n",
    "            pltr(yhat.argmax(1).flatten()), bins=np.arange(0, 11 + 1, 1), label=\"predicted digit counts\"\n",
    "        )\n",
    "    ax.set_xticks(list(map(float, range(11))))\n",
    "    ax.legend()\n",
    "    plt.show()\n",
    "plothist()"
   ]
  },
  {
   "cell_type": "code",
   "execution_count": 632,
   "metadata": {},
   "outputs": [
    {
     "data": {
      "image/png": "[encoded data removed]",
      "text/plain": [
       "<Figure size 640x480 with 2 Axes>"
      ]
     },
     "metadata": {},
     "output_type": "display_data"
    }
   ],
   "source": [
    "def plotconf():\n",
    "        pred = pltr(yhat.argmax(1).flatten())\n",
    "        # Compute confusion matrix\n",
    "        cm = confusion_matrix(pltr(y.flatten()), pred)\n",
    "\n",
    "        # Plot confusion matrix\n",
    "        f, ax = plt.subplots()\n",
    "        ax.set_title(\"Digit Model Confusion (10 := Noise)\")\n",
    "\n",
    "        sns.heatmap(\n",
    "                cm,\n",
    "                annot=True,\n",
    "                fmt=\"d\",\n",
    "                cmap=\"magma\",\n",
    "                xticklabels=np.unique(pltr(y)),\n",
    "                yticklabels=np.unique(pltr(y)),\n",
    "                ax=ax,\n",
    "        )\n",
    "        ax.set_xlabel(\"Predicted Labels\")\n",
    "        ax.set_ylabel(\"True Labels\")\n",
    "\n",
    "        plt.show()\n",
    "plotconf()"
   ]
  },
  {
   "cell_type": "code",
   "execution_count": 633,
   "metadata": {},
   "outputs": [
    {
     "name": "stderr",
     "output_type": "stream",
     "text": [
      "/net/flood/home/theloni/audio-rc-rtl/exploration/models/lfsr.py:20: UserWarning: To copy construct from a tensor, it is recommended to use sourceTensor.clone().detach() or sourceTensor.clone().detach().requires_grad_(True), rather than torch.tensor(sourceTensor).\n",
      "  self.poly_degrees = torch.tensor(polydegrees)\n"
     ]
    },
    {
     "ename": "AttributeError",
     "evalue": "'ONNXPipeline' object has no attribute 'in_norm'",
     "output_type": "error",
     "traceback": [
      "\u001b[0;31m---------------------------------------------------------------------------\u001b[0m",
      "\u001b[0;31mAttributeError\u001b[0m                            Traceback (most recent call last)",
      "Cell \u001b[0;32mIn[633], line 1\u001b[0m\n\u001b[0;32m----> 1\u001b[0m uut_fpga \u001b[38;5;241m=\u001b[39m \u001b[43mONNXPipeline\u001b[49m\u001b[43m(\u001b[49m\u001b[43mv\u001b[49m\u001b[43m,\u001b[49m\u001b[43m \u001b[49m\u001b[43mm\u001b[49m\u001b[43m)\u001b[49m\n",
      "Cell \u001b[0;32mIn[619], line 41\u001b[0m, in \u001b[0;36mONNXPipeline.__init__\u001b[0;34m(self, inorm_var, inorm_bias)\u001b[0m\n\u001b[1;32m     39\u001b[0m \u001b[38;5;28;01mdef\u001b[39;00m \u001b[38;5;21m__init__\u001b[39m(\u001b[38;5;28mself\u001b[39m, inorm_var, inorm_bias):\n\u001b[1;32m     40\u001b[0m     \u001b[38;5;28msuper\u001b[39m()\u001b[38;5;241m.\u001b[39m\u001b[38;5;21m__init__\u001b[39m(FPGA_RC, inorm_var, inorm_bias)\n\u001b[0;32m---> 41\u001b[0m     \u001b[38;5;28;01mdel\u001b[39;00m \u001b[38;5;28;43mself\u001b[39;49m\u001b[38;5;241;43m.\u001b[39;49m\u001b[43min_norm\u001b[49m\n",
      "File \u001b[0;32m~/miniconda/envs/iir-torch/lib/python3.11/site-packages/torch/nn/modules/module.py:1765\u001b[0m, in \u001b[0;36mModule.__delattr__\u001b[0;34m(self, name)\u001b[0m\n\u001b[1;32m   1763\u001b[0m     \u001b[38;5;28;01mdel\u001b[39;00m \u001b[38;5;28mself\u001b[39m\u001b[38;5;241m.\u001b[39m_modules[name]\n\u001b[1;32m   1764\u001b[0m \u001b[38;5;28;01melse\u001b[39;00m:\n\u001b[0;32m-> 1765\u001b[0m     \u001b[38;5;28;43msuper\u001b[39;49m\u001b[43m(\u001b[49m\u001b[43m)\u001b[49m\u001b[38;5;241;43m.\u001b[39;49m\u001b[38;5;21;43m__delattr__\u001b[39;49m\u001b[43m(\u001b[49m\u001b[43mname\u001b[49m\u001b[43m)\u001b[49m\n",
      "\u001b[0;31mAttributeError\u001b[0m: 'ONNXPipeline' object has no attribute 'in_norm'"
     ]
    }
   ],
   "source": [
    "uut_fpga = ONNXPipeline(v, m)"
   ]
  },
  {
   "cell_type": "code",
   "execution_count": null,
   "metadata": {},
   "outputs": [
    {
     "name": "stdout",
     "output_type": "stream",
     "text": [
      "models/rc8.3/epoch299 \n",
      " ['ff1.bias.tensor', 'ff1.weight.tensor', 'ff2.bias.tensor', 'ff2.weight.tensor', 'lin_out.bias.tensor', 'lin_out.weight.tensor', 'preact_norm.bias.tensor', 'preact_norm.weight.tensor'] \n",
      " ['ff1.bias', 'ff1.weight', 'ff2.bias', 'ff2.weight', 'lin_out.bias', 'lin_out.weight', 'preact_norm.bias', 'preact_norm.weight']\n",
      "targeting ['ff1.weight', 'ff1.bias', 'ff2.weight', 'ff2.bias', 'lin_out.weight', 'lin_out.bias', 'preact_norm.weight', 'preact_norm.bias']\n",
      "setting ff1.weight to loaded value from ff1.weight.tensor\n",
      "setting ff1.bias to loaded value from ff1.bias.tensor\n",
      "setting ff2.weight to loaded value from ff2.weight.tensor\n",
      "setting ff2.bias to loaded value from ff2.bias.tensor\n",
      "setting lin_out.weight to loaded value from lin_out.weight.tensor\n",
      "setting lin_out.bias to loaded value from lin_out.bias.tensor\n",
      "setting preact_norm.weight to loaded value from preact_norm.weight.tensor\n",
      "setting preact_norm.bias to loaded value from preact_norm.bias.tensor\n"
     ]
    }
   ],
   "source": [
    "with torch.no_grad():\n",
    "    load_model(uut_fpga, \"models/rc8.3/epoch299\")\n",
    "    uut_fpga.eval()\n"
   ]
  },
  {
   "cell_type": "code",
   "execution_count": null,
   "metadata": {},
   "outputs": [
    {
     "name": "stderr",
     "output_type": "stream",
     "text": [
      "/home/theloni/miniconda/envs/iir-torch/lib/python3.11/site-packages/torch/onnx/_internal/exporter.py:130: UserWarning: torch.onnx.dynamo_export only implements opset version 18 for now. If you need to use a different opset version, please register them with register_custom_op.\n",
      "  warnings.warn(\n"
     ]
    },
    {
     "ename": "OnnxExporterError",
     "evalue": "Failed to export the model to ONNX. Generating SARIF report at 'report_dynamo_export.sarif'. SARIF is a standard format for the output of static analysis tools. SARIF logs can be loaded in VS Code SARIF viewer extension, or SARIF web viewer (https://microsoft.github.io/sarif-web-component/). Please report a bug on PyTorch Github: https://github.com/pytorch/pytorch/issues",
     "output_type": "error",
     "traceback": [
      "\u001b[0;31m---------------------------------------------------------------------------\u001b[0m",
      "\u001b[0;31mInternalTorchDynamoError\u001b[0m                  Traceback (most recent call last)",
      "File \u001b[0;32m~/miniconda/envs/iir-torch/lib/python3.11/site-packages/torch/onnx/_internal/exporter.py:1195\u001b[0m, in \u001b[0;36mdynamo_export\u001b[0;34m(model, export_options, *model_args, **model_kwargs)\u001b[0m\n\u001b[1;32m   1189\u001b[0m \u001b[38;5;28;01mtry\u001b[39;00m:\n\u001b[1;32m   1190\u001b[0m     \u001b[38;5;28;01mreturn\u001b[39;00m \u001b[43mExporter\u001b[49m\u001b[43m(\u001b[49m\n\u001b[1;32m   1191\u001b[0m \u001b[43m        \u001b[49m\u001b[43moptions\u001b[49m\u001b[38;5;241;43m=\u001b[39;49m\u001b[43mresolved_export_options\u001b[49m\u001b[43m,\u001b[49m\n\u001b[1;32m   1192\u001b[0m \u001b[43m        \u001b[49m\u001b[43mmodel\u001b[49m\u001b[38;5;241;43m=\u001b[39;49m\u001b[43mmodel\u001b[49m\u001b[43m,\u001b[49m\n\u001b[1;32m   1193\u001b[0m \u001b[43m        \u001b[49m\u001b[43mmodel_args\u001b[49m\u001b[38;5;241;43m=\u001b[39;49m\u001b[43mmodel_args\u001b[49m\u001b[43m,\u001b[49m\n\u001b[1;32m   1194\u001b[0m \u001b[43m        \u001b[49m\u001b[43mmodel_kwargs\u001b[49m\u001b[38;5;241;43m=\u001b[39;49m\u001b[43mmodel_kwargs\u001b[49m\u001b[43m,\u001b[49m\n\u001b[0;32m-> 1195\u001b[0m \u001b[43m    \u001b[49m\u001b[43m)\u001b[49m\u001b[38;5;241;43m.\u001b[39;49m\u001b[43mexport\u001b[49m\u001b[43m(\u001b[49m\u001b[43m)\u001b[49m\n\u001b[1;32m   1196\u001b[0m \u001b[38;5;28;01mexcept\u001b[39;00m \u001b[38;5;167;01mException\u001b[39;00m \u001b[38;5;28;01mas\u001b[39;00m e:\n",
      "File \u001b[0;32m~/miniconda/envs/iir-torch/lib/python3.11/site-packages/torch/onnx/_internal/exporter.py:941\u001b[0m, in \u001b[0;36mExporter.export\u001b[0;34m(self)\u001b[0m\n\u001b[1;32m    940\u001b[0m \u001b[38;5;28;01mwith\u001b[39;00m \u001b[38;5;28mself\u001b[39m\u001b[38;5;241m.\u001b[39moptions\u001b[38;5;241m.\u001b[39mdiagnostic_context:\n\u001b[0;32m--> 941\u001b[0m     graph_module \u001b[38;5;241m=\u001b[39m \u001b[38;5;28;43mself\u001b[39;49m\u001b[38;5;241;43m.\u001b[39;49m\u001b[43moptions\u001b[49m\u001b[38;5;241;43m.\u001b[39;49m\u001b[43mfx_tracer\u001b[49m\u001b[38;5;241;43m.\u001b[39;49m\u001b[43mgenerate_fx\u001b[49m\u001b[43m(\u001b[49m\n\u001b[1;32m    942\u001b[0m \u001b[43m        \u001b[49m\u001b[38;5;28;43mself\u001b[39;49m\u001b[38;5;241;43m.\u001b[39;49m\u001b[43moptions\u001b[49m\u001b[43m,\u001b[49m\u001b[43m \u001b[49m\u001b[38;5;28;43mself\u001b[39;49m\u001b[38;5;241;43m.\u001b[39;49m\u001b[43mmodel\u001b[49m\u001b[43m,\u001b[49m\u001b[43m \u001b[49m\u001b[38;5;28;43mself\u001b[39;49m\u001b[38;5;241;43m.\u001b[39;49m\u001b[43mmodel_args\u001b[49m\u001b[43m,\u001b[49m\u001b[43m \u001b[49m\u001b[38;5;28;43mself\u001b[39;49m\u001b[38;5;241;43m.\u001b[39;49m\u001b[43mmodel_kwargs\u001b[49m\n\u001b[1;32m    943\u001b[0m \u001b[43m    \u001b[49m\u001b[43m)\u001b[49m\n\u001b[1;32m    945\u001b[0m     updated_model_args \u001b[38;5;241m=\u001b[39m \u001b[38;5;28mself\u001b[39m\u001b[38;5;241m.\u001b[39moptions\u001b[38;5;241m.\u001b[39mfx_tracer\u001b[38;5;241m.\u001b[39minput_adapter\u001b[38;5;241m.\u001b[39mapply(\n\u001b[1;32m    946\u001b[0m         \u001b[38;5;241m*\u001b[39m\u001b[38;5;28mself\u001b[39m\u001b[38;5;241m.\u001b[39mmodel_args, \u001b[38;5;241m*\u001b[39m\u001b[38;5;241m*\u001b[39m\u001b[38;5;28mself\u001b[39m\u001b[38;5;241m.\u001b[39mmodel_kwargs\n\u001b[1;32m    947\u001b[0m     )\n",
      "File \u001b[0;32m~/miniconda/envs/iir-torch/lib/python3.11/site-packages/torch/onnx/_internal/fx/dynamo_graph_extractor.py:199\u001b[0m, in \u001b[0;36mDynamoExport.generate_fx\u001b[0;34m(self, options, model, model_args, model_kwargs)\u001b[0m\n\u001b[1;32m    198\u001b[0m \u001b[38;5;28;01mwith\u001b[39;00m fake_mode:  \u001b[38;5;66;03m# type: ignore[attr-defined]\u001b[39;00m\n\u001b[0;32m--> 199\u001b[0m     graph_module, graph_guard \u001b[38;5;241m=\u001b[39m \u001b[43mtorch\u001b[49m\u001b[38;5;241;43m.\u001b[39;49m\u001b[43m_dynamo\u001b[49m\u001b[38;5;241;43m.\u001b[39;49m\u001b[43mexport\u001b[49m\u001b[43m(\u001b[49m\n\u001b[1;32m    200\u001b[0m \u001b[43m        \u001b[49m\u001b[43mwrapped_model\u001b[49m\u001b[43m,\u001b[49m\n\u001b[1;32m    201\u001b[0m \u001b[43m        \u001b[49m\u001b[43mtracing_mode\u001b[49m\u001b[38;5;241;43m=\u001b[39;49m\u001b[43mfx_mode\u001b[49m\u001b[43m,\u001b[49m\n\u001b[1;32m    202\u001b[0m \u001b[43m    \u001b[49m\u001b[43m)\u001b[49m\u001b[43m(\u001b[49m\n\u001b[1;32m    203\u001b[0m \u001b[43m        \u001b[49m\u001b[38;5;241;43m*\u001b[39;49m\u001b[43mmodel_args\u001b[49m\u001b[43m,\u001b[49m\n\u001b[1;32m    204\u001b[0m \u001b[43m        \u001b[49m\u001b[38;5;241;43m*\u001b[39;49m\u001b[38;5;241;43m*\u001b[39;49m\u001b[43mmodel_kwargs\u001b[49m\u001b[43m,\u001b[49m\n\u001b[1;32m    205\u001b[0m \u001b[43m    \u001b[49m\u001b[43m)\u001b[49m\n\u001b[1;32m    206\u001b[0m \u001b[38;5;28;01mdel\u001b[39;00m graph_guard  \u001b[38;5;66;03m# Unused\u001b[39;00m\n",
      "File \u001b[0;32m~/miniconda/envs/iir-torch/lib/python3.11/site-packages/torch/_dynamo/eval_frame.py:1140\u001b[0m, in \u001b[0;36mexport.<locals>.inner\u001b[0;34m(*args, **kwargs)\u001b[0m\n\u001b[1;32m   1139\u001b[0m \u001b[38;5;28;01mtry\u001b[39;00m:\n\u001b[0;32m-> 1140\u001b[0m     result_traced \u001b[38;5;241m=\u001b[39m \u001b[43mopt_f\u001b[49m\u001b[43m(\u001b[49m\u001b[38;5;241;43m*\u001b[39;49m\u001b[43margs\u001b[49m\u001b[43m,\u001b[49m\u001b[43m \u001b[49m\u001b[38;5;241;43m*\u001b[39;49m\u001b[38;5;241;43m*\u001b[39;49m\u001b[43mkwargs\u001b[49m\u001b[43m)\u001b[49m\n\u001b[1;32m   1141\u001b[0m \u001b[38;5;28;01mexcept\u001b[39;00m ConstraintViolationError \u001b[38;5;28;01mas\u001b[39;00m e:\n",
      "File \u001b[0;32m~/miniconda/envs/iir-torch/lib/python3.11/site-packages/torch/_dynamo/eval_frame.py:328\u001b[0m, in \u001b[0;36m_TorchDynamoContext.__call__.<locals>._fn\u001b[0;34m(*args, **kwargs)\u001b[0m\n\u001b[1;32m    327\u001b[0m \u001b[38;5;28;01mtry\u001b[39;00m:\n\u001b[0;32m--> 328\u001b[0m     \u001b[38;5;28;01mreturn\u001b[39;00m \u001b[43mfn\u001b[49m\u001b[43m(\u001b[49m\u001b[38;5;241;43m*\u001b[39;49m\u001b[43margs\u001b[49m\u001b[43m,\u001b[49m\u001b[43m \u001b[49m\u001b[38;5;241;43m*\u001b[39;49m\u001b[38;5;241;43m*\u001b[39;49m\u001b[43mkwargs\u001b[49m\u001b[43m)\u001b[49m\n\u001b[1;32m    329\u001b[0m \u001b[38;5;28;01mfinally\u001b[39;00m:\n",
      "File \u001b[0;32m~/miniconda/envs/iir-torch/lib/python3.11/site-packages/torch/onnx/_internal/fx/dynamo_graph_extractor.py:154\u001b[0m, in \u001b[0;36m_wrap_model_with_output_adapter.<locals>.wrapped\u001b[0;34m(*args, **kwargs)\u001b[0m\n\u001b[1;32m    152\u001b[0m \u001b[38;5;129m@functools\u001b[39m\u001b[38;5;241m.\u001b[39mwraps(model_func)\n\u001b[1;32m    153\u001b[0m \u001b[38;5;28;01mdef\u001b[39;00m \u001b[38;5;21mwrapped\u001b[39m(\u001b[38;5;241m*\u001b[39margs, \u001b[38;5;241m*\u001b[39m\u001b[38;5;241m*\u001b[39mkwargs):\n\u001b[0;32m--> 154\u001b[0m     \u001b[38;5;28;01mreturn\u001b[39;00m output_adapter\u001b[38;5;241m.\u001b[39mapply(\u001b[43mmodel_func\u001b[49m\u001b[43m(\u001b[49m\u001b[38;5;241;43m*\u001b[39;49m\u001b[43margs\u001b[49m\u001b[43m,\u001b[49m\u001b[43m \u001b[49m\u001b[38;5;241;43m*\u001b[39;49m\u001b[38;5;241;43m*\u001b[39;49m\u001b[43mkwargs\u001b[49m\u001b[43m)\u001b[49m)\n",
      "File \u001b[0;32m~/miniconda/envs/iir-torch/lib/python3.11/site-packages/torch/_dynamo/eval_frame.py:490\u001b[0m, in \u001b[0;36mcatch_errors_wrapper.<locals>.catch_errors\u001b[0;34m(frame, cache_entry, frame_state)\u001b[0m\n\u001b[1;32m    489\u001b[0m \u001b[38;5;28;01mwith\u001b[39;00m compile_lock, _disable_current_modes():\n\u001b[0;32m--> 490\u001b[0m     \u001b[38;5;28;01mreturn\u001b[39;00m \u001b[43mcallback\u001b[49m\u001b[43m(\u001b[49m\u001b[43mframe\u001b[49m\u001b[43m,\u001b[49m\u001b[43m \u001b[49m\u001b[43mcache_entry\u001b[49m\u001b[43m,\u001b[49m\u001b[43m \u001b[49m\u001b[43mhooks\u001b[49m\u001b[43m,\u001b[49m\u001b[43m \u001b[49m\u001b[43mframe_state\u001b[49m\u001b[43m)\u001b[49m\n",
      "File \u001b[0;32m~/miniconda/envs/iir-torch/lib/python3.11/site-packages/torch/_dynamo/convert_frame.py:133\u001b[0m, in \u001b[0;36mwrap_convert_context.<locals>._fn\u001b[0;34m(*args, **kwargs)\u001b[0m\n\u001b[1;32m    132\u001b[0m \u001b[38;5;28;01mtry\u001b[39;00m:\n\u001b[0;32m--> 133\u001b[0m     \u001b[38;5;28;01mreturn\u001b[39;00m \u001b[43mfn\u001b[49m\u001b[43m(\u001b[49m\u001b[38;5;241;43m*\u001b[39;49m\u001b[43margs\u001b[49m\u001b[43m,\u001b[49m\u001b[43m \u001b[49m\u001b[38;5;241;43m*\u001b[39;49m\u001b[38;5;241;43m*\u001b[39;49m\u001b[43mkwargs\u001b[49m\u001b[43m)\u001b[49m\n\u001b[1;32m    134\u001b[0m \u001b[38;5;28;01mfinally\u001b[39;00m:\n",
      "File \u001b[0;32m~/miniconda/envs/iir-torch/lib/python3.11/site-packages/torch/_dynamo/convert_frame.py:389\u001b[0m, in \u001b[0;36mconvert_frame_assert.<locals>._convert_frame_assert\u001b[0;34m(frame, cache_entry, hooks, frame_state)\u001b[0m\n\u001b[1;32m    378\u001b[0m signpost_event(\n\u001b[1;32m    379\u001b[0m     \u001b[38;5;124m\"\u001b[39m\u001b[38;5;124mdynamo\u001b[39m\u001b[38;5;124m\"\u001b[39m,\n\u001b[1;32m    380\u001b[0m     \u001b[38;5;124m\"\u001b[39m\u001b[38;5;124m_convert_frame_assert._compile\u001b[39m\u001b[38;5;124m\"\u001b[39m,\n\u001b[0;32m   (...)\u001b[0m\n\u001b[1;32m    386\u001b[0m     },\n\u001b[1;32m    387\u001b[0m )\n\u001b[0;32m--> 389\u001b[0m \u001b[38;5;28;01mreturn\u001b[39;00m \u001b[43m_compile\u001b[49m\u001b[43m(\u001b[49m\n\u001b[1;32m    390\u001b[0m \u001b[43m    \u001b[49m\u001b[43mframe\u001b[49m\u001b[38;5;241;43m.\u001b[39;49m\u001b[43mf_code\u001b[49m\u001b[43m,\u001b[49m\n\u001b[1;32m    391\u001b[0m \u001b[43m    \u001b[49m\u001b[43mframe\u001b[49m\u001b[38;5;241;43m.\u001b[39;49m\u001b[43mf_globals\u001b[49m\u001b[43m,\u001b[49m\n\u001b[1;32m    392\u001b[0m \u001b[43m    \u001b[49m\u001b[43mframe\u001b[49m\u001b[38;5;241;43m.\u001b[39;49m\u001b[43mf_locals\u001b[49m\u001b[43m,\u001b[49m\n\u001b[1;32m    393\u001b[0m \u001b[43m    \u001b[49m\u001b[43mframe\u001b[49m\u001b[38;5;241;43m.\u001b[39;49m\u001b[43mf_builtins\u001b[49m\u001b[43m,\u001b[49m\n\u001b[1;32m    394\u001b[0m \u001b[43m    \u001b[49m\u001b[43mcompiler_fn\u001b[49m\u001b[43m,\u001b[49m\n\u001b[1;32m    395\u001b[0m \u001b[43m    \u001b[49m\u001b[43mone_graph\u001b[49m\u001b[43m,\u001b[49m\n\u001b[1;32m    396\u001b[0m \u001b[43m    \u001b[49m\u001b[43mexport\u001b[49m\u001b[43m,\u001b[49m\n\u001b[1;32m    397\u001b[0m \u001b[43m    \u001b[49m\u001b[43mexport_constraints\u001b[49m\u001b[43m,\u001b[49m\n\u001b[1;32m    398\u001b[0m \u001b[43m    \u001b[49m\u001b[43mhooks\u001b[49m\u001b[43m,\u001b[49m\n\u001b[1;32m    399\u001b[0m \u001b[43m    \u001b[49m\u001b[43mcache_size\u001b[49m\u001b[43m,\u001b[49m\n\u001b[1;32m    400\u001b[0m \u001b[43m    \u001b[49m\u001b[43mframe\u001b[49m\u001b[43m,\u001b[49m\n\u001b[1;32m    401\u001b[0m \u001b[43m    \u001b[49m\u001b[43mframe_state\u001b[49m\u001b[38;5;241;43m=\u001b[39;49m\u001b[43mframe_state\u001b[49m\u001b[43m,\u001b[49m\n\u001b[1;32m    402\u001b[0m \u001b[43m    \u001b[49m\u001b[43mcompile_id\u001b[49m\u001b[38;5;241;43m=\u001b[39;49m\u001b[43mcompile_id\u001b[49m\u001b[43m,\u001b[49m\n\u001b[1;32m    403\u001b[0m \u001b[43m\u001b[49m\u001b[43m)\u001b[49m\n",
      "File \u001b[0;32m~/miniconda/envs/iir-torch/lib/python3.11/site-packages/torch/_dynamo/convert_frame.py:586\u001b[0m, in \u001b[0;36m_compile\u001b[0;34m(code, globals, locals, builtins, compiler_fn, one_graph, export, export_constraints, hooks, cache_size, frame, frame_state, compile_id)\u001b[0m\n\u001b[1;32m    585\u001b[0m     exception_handler(e, code, frame, export\u001b[38;5;241m=\u001b[39mexport)\n\u001b[0;32m--> 586\u001b[0m     \u001b[38;5;28;01mraise\u001b[39;00m InternalTorchDynamoError(\u001b[38;5;28mstr\u001b[39m(e))\u001b[38;5;241m.\u001b[39mwith_traceback(\n\u001b[1;32m    587\u001b[0m         e\u001b[38;5;241m.\u001b[39m__traceback__\n\u001b[1;32m    588\u001b[0m     ) \u001b[38;5;28;01mfrom\u001b[39;00m \u001b[38;5;28;01mNone\u001b[39;00m\n\u001b[1;32m    589\u001b[0m \u001b[38;5;28;01mfinally\u001b[39;00m:\n",
      "File \u001b[0;32m~/miniconda/envs/iir-torch/lib/python3.11/site-packages/torch/_dynamo/convert_frame.py:569\u001b[0m, in \u001b[0;36m_compile\u001b[0;34m(code, globals, locals, builtins, compiler_fn, one_graph, export, export_constraints, hooks, cache_size, frame, frame_state, compile_id)\u001b[0m\n\u001b[1;32m    568\u001b[0m \u001b[38;5;28;01mtry\u001b[39;00m:\n\u001b[0;32m--> 569\u001b[0m     guarded_code \u001b[38;5;241m=\u001b[39m \u001b[43mcompile_inner\u001b[49m\u001b[43m(\u001b[49m\u001b[43mcode\u001b[49m\u001b[43m,\u001b[49m\u001b[43m \u001b[49m\u001b[43mone_graph\u001b[49m\u001b[43m,\u001b[49m\u001b[43m \u001b[49m\u001b[43mhooks\u001b[49m\u001b[43m,\u001b[49m\u001b[43m \u001b[49m\u001b[43mtransform\u001b[49m\u001b[43m)\u001b[49m\n\u001b[1;32m    570\u001b[0m     \u001b[38;5;28;01mreturn\u001b[39;00m guarded_code\n",
      "File \u001b[0;32m~/miniconda/envs/iir-torch/lib/python3.11/site-packages/torch/_dynamo/utils.py:189\u001b[0m, in \u001b[0;36mdynamo_timed.<locals>.dynamo_timed_inner.<locals>.time_wrapper\u001b[0;34m(*args, **kwargs)\u001b[0m\n\u001b[1;32m    188\u001b[0m t0 \u001b[38;5;241m=\u001b[39m time\u001b[38;5;241m.\u001b[39mtime()\n\u001b[0;32m--> 189\u001b[0m r \u001b[38;5;241m=\u001b[39m \u001b[43mfunc\u001b[49m\u001b[43m(\u001b[49m\u001b[38;5;241;43m*\u001b[39;49m\u001b[43margs\u001b[49m\u001b[43m,\u001b[49m\u001b[43m \u001b[49m\u001b[38;5;241;43m*\u001b[39;49m\u001b[38;5;241;43m*\u001b[39;49m\u001b[43mkwargs\u001b[49m\u001b[43m)\u001b[49m\n\u001b[1;32m    190\u001b[0m time_spent \u001b[38;5;241m=\u001b[39m time\u001b[38;5;241m.\u001b[39mtime() \u001b[38;5;241m-\u001b[39m t0\n",
      "File \u001b[0;32m~/miniconda/envs/iir-torch/lib/python3.11/site-packages/torch/_dynamo/convert_frame.py:491\u001b[0m, in \u001b[0;36m_compile.<locals>.compile_inner\u001b[0;34m(code, one_graph, hooks, transform)\u001b[0m\n\u001b[1;32m    490\u001b[0m \u001b[38;5;28;01mtry\u001b[39;00m:\n\u001b[0;32m--> 491\u001b[0m     out_code \u001b[38;5;241m=\u001b[39m \u001b[43mtransform_code_object\u001b[49m\u001b[43m(\u001b[49m\u001b[43mcode\u001b[49m\u001b[43m,\u001b[49m\u001b[43m \u001b[49m\u001b[43mtransform\u001b[49m\u001b[43m)\u001b[49m\n\u001b[1;32m    492\u001b[0m     orig_code_map[out_code] \u001b[38;5;241m=\u001b[39m code\n",
      "File \u001b[0;32m~/miniconda/envs/iir-torch/lib/python3.11/site-packages/torch/_dynamo/bytecode_transformation.py:1028\u001b[0m, in \u001b[0;36mtransform_code_object\u001b[0;34m(code, transformations, safe)\u001b[0m\n\u001b[1;32m   1026\u001b[0m propagate_line_nums(instructions)\n\u001b[0;32m-> 1028\u001b[0m \u001b[43mtransformations\u001b[49m\u001b[43m(\u001b[49m\u001b[43minstructions\u001b[49m\u001b[43m,\u001b[49m\u001b[43m \u001b[49m\u001b[43mcode_options\u001b[49m\u001b[43m)\u001b[49m\n\u001b[1;32m   1029\u001b[0m \u001b[38;5;28;01mreturn\u001b[39;00m clean_and_assemble_instructions(instructions, keys, code_options)[\u001b[38;5;241m1\u001b[39m]\n",
      "File \u001b[0;32m~/miniconda/envs/iir-torch/lib/python3.11/site-packages/torch/_dynamo/convert_frame.py:458\u001b[0m, in \u001b[0;36m_compile.<locals>.transform\u001b[0;34m(instructions, code_options)\u001b[0m\n\u001b[1;32m    457\u001b[0m     \u001b[38;5;28;01mwith\u001b[39;00m tracing(tracer\u001b[38;5;241m.\u001b[39moutput\u001b[38;5;241m.\u001b[39mtracing_context):\n\u001b[0;32m--> 458\u001b[0m         \u001b[43mtracer\u001b[49m\u001b[38;5;241;43m.\u001b[39;49m\u001b[43mrun\u001b[49m\u001b[43m(\u001b[49m\u001b[43m)\u001b[49m\n\u001b[1;32m    459\u001b[0m \u001b[38;5;28;01mexcept\u001b[39;00m (exc\u001b[38;5;241m.\u001b[39mRestartAnalysis, exc\u001b[38;5;241m.\u001b[39mSkipFrame):\n",
      "File \u001b[0;32m~/miniconda/envs/iir-torch/lib/python3.11/site-packages/torch/_dynamo/symbolic_convert.py:2069\u001b[0m, in \u001b[0;36mInstructionTranslator.run\u001b[0;34m(self)\u001b[0m\n\u001b[1;32m   2068\u001b[0m \u001b[38;5;28;01mdef\u001b[39;00m \u001b[38;5;21mrun\u001b[39m(\u001b[38;5;28mself\u001b[39m):\n\u001b[0;32m-> 2069\u001b[0m     \u001b[38;5;28;43msuper\u001b[39;49m\u001b[43m(\u001b[49m\u001b[43m)\u001b[49m\u001b[38;5;241;43m.\u001b[39;49m\u001b[43mrun\u001b[49m\u001b[43m(\u001b[49m\u001b[43m)\u001b[49m\n",
      "File \u001b[0;32m~/miniconda/envs/iir-torch/lib/python3.11/site-packages/torch/_dynamo/symbolic_convert.py:719\u001b[0m, in \u001b[0;36mInstructionTranslatorBase.run\u001b[0;34m(self)\u001b[0m\n\u001b[1;32m    715\u001b[0m \u001b[38;5;28mself\u001b[39m\u001b[38;5;241m.\u001b[39moutput\u001b[38;5;241m.\u001b[39mpush_tx(\u001b[38;5;28mself\u001b[39m)\n\u001b[1;32m    716\u001b[0m \u001b[38;5;28;01mwhile\u001b[39;00m (\n\u001b[1;32m    717\u001b[0m     \u001b[38;5;28mself\u001b[39m\u001b[38;5;241m.\u001b[39minstruction_pointer \u001b[38;5;129;01mis\u001b[39;00m \u001b[38;5;129;01mnot\u001b[39;00m \u001b[38;5;28;01mNone\u001b[39;00m\n\u001b[1;32m    718\u001b[0m     \u001b[38;5;129;01mand\u001b[39;00m \u001b[38;5;129;01mnot\u001b[39;00m \u001b[38;5;28mself\u001b[39m\u001b[38;5;241m.\u001b[39moutput\u001b[38;5;241m.\u001b[39mshould_exit\n\u001b[0;32m--> 719\u001b[0m     \u001b[38;5;129;01mand\u001b[39;00m \u001b[38;5;28;43mself\u001b[39;49m\u001b[38;5;241;43m.\u001b[39;49m\u001b[43mstep\u001b[49m\u001b[43m(\u001b[49m\u001b[43m)\u001b[49m\n\u001b[1;32m    720\u001b[0m ):\n\u001b[1;32m    721\u001b[0m     \u001b[38;5;28;01mpass\u001b[39;00m\n",
      "File \u001b[0;32m~/miniconda/envs/iir-torch/lib/python3.11/site-packages/torch/_dynamo/symbolic_convert.py:683\u001b[0m, in \u001b[0;36mInstructionTranslatorBase.step\u001b[0;34m(self)\u001b[0m\n\u001b[1;32m    680\u001b[0m TracingContext\u001b[38;5;241m.\u001b[39mset_current_loc(\n\u001b[1;32m    681\u001b[0m     \u001b[38;5;28mself\u001b[39m\u001b[38;5;241m.\u001b[39mf_code\u001b[38;5;241m.\u001b[39mco_filename, \u001b[38;5;28mself\u001b[39m\u001b[38;5;241m.\u001b[39mlineno, \u001b[38;5;28mself\u001b[39m\u001b[38;5;241m.\u001b[39mf_code\u001b[38;5;241m.\u001b[39mco_name\n\u001b[1;32m    682\u001b[0m )\n\u001b[0;32m--> 683\u001b[0m \u001b[38;5;28;43mgetattr\u001b[39;49m\u001b[43m(\u001b[49m\u001b[38;5;28;43mself\u001b[39;49m\u001b[43m,\u001b[49m\u001b[43m \u001b[49m\u001b[43minst\u001b[49m\u001b[38;5;241;43m.\u001b[39;49m\u001b[43mopname\u001b[49m\u001b[43m)\u001b[49m\u001b[43m(\u001b[49m\u001b[43minst\u001b[49m\u001b[43m)\u001b[49m\n\u001b[1;32m    685\u001b[0m \u001b[38;5;28;01mreturn\u001b[39;00m inst\u001b[38;5;241m.\u001b[39mopname \u001b[38;5;241m!=\u001b[39m \u001b[38;5;124m\"\u001b[39m\u001b[38;5;124mRETURN_VALUE\u001b[39m\u001b[38;5;124m\"\u001b[39m\n",
      "File \u001b[0;32m~/miniconda/envs/iir-torch/lib/python3.11/site-packages/torch/_dynamo/symbolic_convert.py:1186\u001b[0m, in \u001b[0;36mInstructionTranslatorBase.LOAD_ATTR\u001b[0;34m(self, inst)\u001b[0m\n\u001b[1;32m   1185\u001b[0m obj \u001b[38;5;241m=\u001b[39m \u001b[38;5;28mself\u001b[39m\u001b[38;5;241m.\u001b[39mpop()\n\u001b[0;32m-> 1186\u001b[0m result \u001b[38;5;241m=\u001b[39m \u001b[43mBuiltinVariable\u001b[49m\u001b[43m(\u001b[49m\u001b[38;5;28;43mgetattr\u001b[39;49m\u001b[43m)\u001b[49m\u001b[38;5;241;43m.\u001b[39;49m\u001b[43mcall_function\u001b[49m\u001b[43m(\u001b[49m\n\u001b[1;32m   1187\u001b[0m \u001b[43m    \u001b[49m\u001b[38;5;28;43mself\u001b[39;49m\u001b[43m,\u001b[49m\u001b[43m \u001b[49m\u001b[43m[\u001b[49m\u001b[43mobj\u001b[49m\u001b[43m,\u001b[49m\u001b[43m \u001b[49m\u001b[43mConstantVariable\u001b[49m\u001b[43m(\u001b[49m\u001b[43minst\u001b[49m\u001b[38;5;241;43m.\u001b[39;49m\u001b[43margval\u001b[49m\u001b[43m)\u001b[49m\u001b[43m]\u001b[49m\u001b[43m,\u001b[49m\u001b[43m \u001b[49m\u001b[43m{\u001b[49m\u001b[43m}\u001b[49m\n\u001b[1;32m   1188\u001b[0m \u001b[43m\u001b[49m\u001b[43m)\u001b[49m\n\u001b[1;32m   1189\u001b[0m \u001b[38;5;28mself\u001b[39m\u001b[38;5;241m.\u001b[39mpush(result)\n",
      "File \u001b[0;32m~/miniconda/envs/iir-torch/lib/python3.11/site-packages/torch/_dynamo/variables/builtin.py:618\u001b[0m, in \u001b[0;36mBuiltinVariable.call_function\u001b[0;34m(self, tx, args, kwargs)\u001b[0m\n\u001b[1;32m    617\u001b[0m \u001b[38;5;28;01mtry\u001b[39;00m:\n\u001b[0;32m--> 618\u001b[0m     result \u001b[38;5;241m=\u001b[39m \u001b[43mhandler\u001b[49m\u001b[43m(\u001b[49m\u001b[43mtx\u001b[49m\u001b[43m,\u001b[49m\u001b[43m \u001b[49m\u001b[38;5;241;43m*\u001b[39;49m\u001b[43margs\u001b[49m\u001b[43m,\u001b[49m\u001b[43m \u001b[49m\u001b[38;5;241;43m*\u001b[39;49m\u001b[38;5;241;43m*\u001b[39;49m\u001b[43mkwargs\u001b[49m\u001b[43m)\u001b[49m\n\u001b[1;32m    619\u001b[0m     \u001b[38;5;28;01mif\u001b[39;00m result \u001b[38;5;129;01mis\u001b[39;00m \u001b[38;5;129;01mnot\u001b[39;00m \u001b[38;5;28;01mNone\u001b[39;00m:\n",
      "File \u001b[0;32m~/miniconda/envs/iir-torch/lib/python3.11/site-packages/torch/_dynamo/variables/builtin.py:1088\u001b[0m, in \u001b[0;36mBuiltinVariable.call_getattr\u001b[0;34m(self, tx, obj, name_var, default)\u001b[0m\n\u001b[1;32m   1087\u001b[0m \u001b[38;5;28;01mif\u001b[39;00m \u001b[38;5;28misinstance\u001b[39m(obj, variables\u001b[38;5;241m.\u001b[39mNNModuleVariable):\n\u001b[0;32m-> 1088\u001b[0m     \u001b[38;5;28;01mreturn\u001b[39;00m \u001b[43mobj\u001b[49m\u001b[38;5;241;43m.\u001b[39;49m\u001b[43mvar_getattr\u001b[49m\u001b[43m(\u001b[49m\u001b[43mtx\u001b[49m\u001b[43m,\u001b[49m\u001b[43m \u001b[49m\u001b[43mname\u001b[49m\u001b[43m)\u001b[49m\u001b[38;5;241m.\u001b[39madd_options(options)\n\u001b[1;32m   1089\u001b[0m \u001b[38;5;28;01melif\u001b[39;00m \u001b[38;5;28misinstance\u001b[39m(obj, variables\u001b[38;5;241m.\u001b[39mTensorVariable) \u001b[38;5;129;01mand\u001b[39;00m name \u001b[38;5;241m==\u001b[39m \u001b[38;5;124m\"\u001b[39m\u001b[38;5;124mgrad\u001b[39m\u001b[38;5;124m\"\u001b[39m:\n",
      "File \u001b[0;32m~/miniconda/envs/iir-torch/lib/python3.11/site-packages/torch/_dynamo/variables/nn_module.py:192\u001b[0m, in \u001b[0;36mNNModuleVariable.var_getattr\u001b[0;34m(self, tx, name)\u001b[0m\n\u001b[1;32m    191\u001b[0m \u001b[38;5;28;01mtry\u001b[39;00m:\n\u001b[0;32m--> 192\u001b[0m     subobj \u001b[38;5;241m=\u001b[39m \u001b[43minspect\u001b[49m\u001b[38;5;241;43m.\u001b[39;49m\u001b[43mgetattr_static\u001b[49m\u001b[43m(\u001b[49m\u001b[43mbase\u001b[49m\u001b[43m,\u001b[49m\u001b[43m \u001b[49m\u001b[43mname\u001b[49m\u001b[43m)\u001b[49m\n\u001b[1;32m    193\u001b[0m     object_member \u001b[38;5;241m=\u001b[39m \u001b[38;5;28;01mFalse\u001b[39;00m\n",
      "File \u001b[0;32m~/miniconda/envs/iir-torch/lib/python3.11/inspect.py:1853\u001b[0m, in \u001b[0;36mgetattr_static\u001b[0;34m(obj, attr, default)\u001b[0m\n\u001b[1;32m   1852\u001b[0m     \u001b[38;5;28;01mreturn\u001b[39;00m default\n\u001b[0;32m-> 1853\u001b[0m \u001b[38;5;28;01mraise\u001b[39;00m \u001b[38;5;167;01mAttributeError\u001b[39;00m(attr)\n",
      "\u001b[0;31mInternalTorchDynamoError\u001b[0m: ff\n\nfrom user code:\n   File \"/tmp/ipykernel_709041/555519347.py\", line 49, in forward\n    ff = mtmt(nbands, self.ff)\n\nSet TORCH_LOGS=\"+dynamo\" and TORCHDYNAMO_VERBOSE=1 for more information\n",
      "\nThe above exception was the direct cause of the following exception:\n",
      "\u001b[0;31mOnnxExporterError\u001b[0m                         Traceback (most recent call last)",
      "Cell \u001b[0;32mIn[577], line 1\u001b[0m\n\u001b[0;32m----> 1\u001b[0m uut_onnx \u001b[38;5;241m=\u001b[39m \u001b[43mtorch\u001b[49m\u001b[38;5;241;43m.\u001b[39;49m\u001b[43monnx\u001b[49m\u001b[38;5;241;43m.\u001b[39;49m\u001b[43mdynamo_export\u001b[49m\u001b[43m(\u001b[49m\u001b[43muut_fpga\u001b[49m\u001b[43m,\u001b[49m\u001b[43m \u001b[49m\u001b[43mtorch\u001b[49m\u001b[38;5;241;43m.\u001b[39;49m\u001b[43mrandn\u001b[49m\u001b[43m(\u001b[49m\u001b[38;5;241;43m1\u001b[39;49m\u001b[43m,\u001b[49m\u001b[43m \u001b[49m\u001b[38;5;241;43m8\u001b[39;49m\u001b[43m,\u001b[49m\u001b[43m \u001b[49m\u001b[38;5;241;43m1\u001b[39;49m\u001b[43m)\u001b[49m\u001b[43m,\u001b[49m\u001b[43m \u001b[49m\u001b[43mtorch\u001b[49m\u001b[38;5;241;43m.\u001b[39;49m\u001b[43mzeros\u001b[49m\u001b[43m(\u001b[49m\u001b[38;5;241;43m1\u001b[39;49m\u001b[43m,\u001b[49m\u001b[43m \u001b[49m\u001b[38;5;241;43m8\u001b[39;49m\u001b[43m)\u001b[49m\u001b[43m)\u001b[49m\n",
      "File \u001b[0;32m~/miniconda/envs/iir-torch/lib/python3.11/site-packages/torch/onnx/_internal/exporter.py:1206\u001b[0m, in \u001b[0;36mdynamo_export\u001b[0;34m(model, export_options, *model_args, **model_kwargs)\u001b[0m\n\u001b[1;32m   1198\u001b[0m resolved_export_options\u001b[38;5;241m.\u001b[39mdiagnostic_context\u001b[38;5;241m.\u001b[39mdump(sarif_report_path)\n\u001b[1;32m   1199\u001b[0m message \u001b[38;5;241m=\u001b[39m (\n\u001b[1;32m   1200\u001b[0m     \u001b[38;5;124mf\u001b[39m\u001b[38;5;124m\"\u001b[39m\u001b[38;5;124mFailed to export the model to ONNX. Generating SARIF report at \u001b[39m\u001b[38;5;124m'\u001b[39m\u001b[38;5;132;01m{\u001b[39;00msarif_report_path\u001b[38;5;132;01m}\u001b[39;00m\u001b[38;5;124m'\u001b[39m\u001b[38;5;124m. \u001b[39m\u001b[38;5;124m\"\u001b[39m\n\u001b[1;32m   1201\u001b[0m     \u001b[38;5;124m\"\u001b[39m\u001b[38;5;124mSARIF is a standard format for the output of static analysis tools. \u001b[39m\u001b[38;5;124m\"\u001b[39m\n\u001b[0;32m   (...)\u001b[0m\n\u001b[1;32m   1204\u001b[0m     \u001b[38;5;124mf\u001b[39m\u001b[38;5;124m\"\u001b[39m\u001b[38;5;124mPlease report a bug on PyTorch Github: \u001b[39m\u001b[38;5;132;01m{\u001b[39;00m_PYTORCH_GITHUB_ISSUES_URL\u001b[38;5;132;01m}\u001b[39;00m\u001b[38;5;124m\"\u001b[39m\n\u001b[1;32m   1205\u001b[0m )\n\u001b[0;32m-> 1206\u001b[0m \u001b[38;5;28;01mraise\u001b[39;00m OnnxExporterError(\n\u001b[1;32m   1207\u001b[0m     ExportOutput\u001b[38;5;241m.\u001b[39m_from_failure(e, resolved_export_options\u001b[38;5;241m.\u001b[39mdiagnostic_context),\n\u001b[1;32m   1208\u001b[0m     message,\n\u001b[1;32m   1209\u001b[0m ) \u001b[38;5;28;01mfrom\u001b[39;00m \u001b[38;5;21;01me\u001b[39;00m\n",
      "\u001b[0;31mOnnxExporterError\u001b[0m: Failed to export the model to ONNX. Generating SARIF report at 'report_dynamo_export.sarif'. SARIF is a standard format for the output of static analysis tools. SARIF logs can be loaded in VS Code SARIF viewer extension, or SARIF web viewer (https://microsoft.github.io/sarif-web-component/). Please report a bug on PyTorch Github: https://github.com/pytorch/pytorch/issues"
     ]
    }
   ],
   "source": [
    "uut_onnx = torch.onnx.dynamo_export(uut_fpga, torch.randn(1, 8, 1), torch.zeros(1, 8))"
   ]
  },
  {
   "cell_type": "code",
   "execution_count": null,
   "metadata": {},
   "outputs": [],
   "source": [
    "uut_onnx.save(\"2step_pipe.onnx\")"
   ]
  }
 ],
 "metadata": {
  "kernelspec": {
   "display_name": "iir-torch",
   "language": "python",
   "name": "python3"
  },
  "language_info": {
   "codemirror_mode": {
    "name": "ipython",
    "version": 3
   },
   "file_extension": ".py",
   "mimetype": "text/x-python",
   "name": "python",
   "nbconvert_exporter": "python",
   "pygments_lexer": "ipython3",
   "version": "3.11.5"
  }
 },
 "nbformat": 4,
 "nbformat_minor": 2
}

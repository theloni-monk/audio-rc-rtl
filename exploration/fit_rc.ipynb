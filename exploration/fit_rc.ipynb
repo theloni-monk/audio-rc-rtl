{
 "cells": [
  {
   "cell_type": "code",
   "execution_count": 1,
   "metadata": {},
   "outputs": [
    {
     "data": {
      "text/plain": [
       "'https://github.com/eonu/torch-fsdd'"
      ]
     },
     "execution_count": 1,
     "metadata": {},
     "output_type": "execute_result"
    }
   ],
   "source": [
    "\"https://github.com/eonu/torch-fsdd\""
   ]
  },
  {
   "cell_type": "code",
   "execution_count": null,
   "metadata": {},
   "outputs": [],
   "source": [
    "import torch\n",
    "from torch import utils\n",
    "from torch import nn\n",
    "from torch.nn import functional as F\n",
    "from data.torchfsdd.dataset import TorchFSDDGenerator\n",
    "from data.augmentations.randphase import RandomAllPass\n",
    "\n",
    "from tqdm.notebook import tqdm\n",
    "import matplotlib.pyplot as plt, numpy as np"
   ]
  },
  {
   "cell_type": "code",
   "execution_count": null,
   "metadata": {},
   "outputs": [],
   "source": [
    "import matplotlib.pyplot as plt\n",
    "from sklearn.metrics import confusion_matrix\n",
    "import seaborn as sns\n",
    "\n",
    "pltr = lambda x: x.cpu().detach().numpy()"
   ]
  },
  {
   "cell_type": "code",
   "execution_count": 4,
   "metadata": {},
   "outputs": [],
   "source": [
    "from optim.adam_ens_optim import AdamWEnsembleOptimizer\n",
    "from optim.ens_optim import HybridEnsGradOptimizer\n",
    "from optim.noise_sched import ExpAnnealingNS"
   ]
  },
  {
   "cell_type": "code",
   "execution_count": 5,
   "metadata": {},
   "outputs": [],
   "source": [
    "# Initialize a generator for a local version of FSDD\n",
    "fsdd = TorchFSDDGenerator(version='local', \n",
    "                        path='/home/theloni/audio-rc-rtl/exploration/data/torchfsdd/recordings',)\n",
    "                        # transforms=RandomAllPass)\n",
    "\n",
    "# Create two Torch datasets for a train-test split from the generator\n",
    "train_set, val_set, test_set = fsdd.train_val_test_split(test_size=0.05, val_size=0.2)"
   ]
  },
  {
   "cell_type": "code",
   "execution_count": 6,
   "metadata": {},
   "outputs": [
    {
     "data": {
      "text/plain": [
       "2279"
      ]
     },
     "execution_count": 6,
     "metadata": {},
     "output_type": "execute_result"
    }
   ],
   "source": [
    "len(train_set)"
   ]
  },
  {
   "cell_type": "code",
   "execution_count": 7,
   "metadata": {},
   "outputs": [],
   "source": [
    "BATCH = 64"
   ]
  },
  {
   "cell_type": "code",
   "execution_count": 8,
   "metadata": {},
   "outputs": [],
   "source": [
    "SNR = 1e-6\n",
    "# pads to 157*64 = 10048\n",
    "def collate_fn(batch):\n",
    "    \"\"\"Collects together sequences into a single batch, arranged in descending length order.\"\"\"\n",
    "    batch_size = len(batch)\n",
    "\n",
    "    # Sort the (sequence, label) pairs in descending order of duration\n",
    "    batch.sort(key=(lambda x: len(x[0])), reverse=True)\n",
    "    # Shape: list(tuple(tensor(TxD), int))\n",
    "\n",
    "    # Create list of sequences, and tensors for lengths and labels\n",
    "    sequences, lengths, labels = [], torch.zeros(batch_size, dtype=torch.long), torch.zeros(batch_size, dtype=torch.long)\n",
    "    for i, (sequence, label) in enumerate(batch):\n",
    "        lengths[i], labels[i] = len(sequence), label\n",
    "        sequences.append(sequence)\n",
    "        # print(sequence.shape)\n",
    "    avg_rms = sum(seq.pow(2).mean().sqrt() for seq in sequences) / len(sequences)\n",
    "    \n",
    "\n",
    "    # Combine sequences into a padded matrix\n",
    "    padded_sequences = torch.stack([torch.nn.functional.pad(seq,(0, 10048 - seq.shape[-1]), \"constant\", 0.0)+SNR*torch.randn(1, 10048)/avg_rms for seq in sequences])#torch.nn.utils.rnn.pad_sequence(sequences, batch_first=True)\n",
    "    # Shape: (B x T_max x D)\n",
    "\n",
    "    return padded_sequences, lengths, labels\n",
    "    # Shapes: (B x T_max x D), (B,), (B,)"
   ]
  },
  {
   "cell_type": "code",
   "execution_count": 9,
   "metadata": {},
   "outputs": [],
   "source": [
    "# Create training, validation and test set batch iterators\n",
    "\n",
    "train_gen = utils.data.DataLoader(train_set, collate_fn=collate_fn, batch_size=BATCH, shuffle=True, pin_memory=True)\n",
    "val_gen = utils.data.DataLoader(val_set, collate_fn=collate_fn, batch_size=len(val_set))\n",
    "test_gen = utils.data.DataLoader(test_set, collate_fn=collate_fn, batch_size=len(test_set))"
   ]
  },
  {
   "cell_type": "code",
   "execution_count": 10,
   "metadata": {},
   "outputs": [],
   "source": [
    "from models.rc import *\n",
    "from models.pqmf import PQMF\n",
    "from models.lfsr import LFSR"
   ]
  },
  {
   "cell_type": "code",
   "execution_count": 11,
   "metadata": {},
   "outputs": [],
   "source": [
    "# lfsr = LFSR()\n",
    "# fxps = torch.tensor([lfsr.gen_fxp_shift(3) for _ in range (10000)]).numpy()\n",
    "# plt.hist(fxps, bins= 50)"
   ]
  },
  {
   "cell_type": "code",
   "execution_count": 12,
   "metadata": {},
   "outputs": [
    {
     "data": {
      "text/plain": [
       "10048"
      ]
     },
     "execution_count": 12,
     "metadata": {},
     "output_type": "execute_result"
    }
   ],
   "source": [
    "157*64"
   ]
  },
  {
   "cell_type": "code",
   "execution_count": null,
   "metadata": {},
   "outputs": [
    {
     "name": "stderr",
     "output_type": "stream",
     "text": [
      "/net/flood/home/theloni/audio-rc-rtl/exploration/models/lfsr.py:20: UserWarning: To copy construct from a tensor, it is recommended to use sourceTensor.clone().detach() or sourceTensor.clone().detach().requires_grad_(True), rather than torch.tensor(sourceTensor).\n",
      "  self.poly_degrees = torch.tensor(polydegrees)\n"
     ]
    },
    {
     "data": {
      "text/plain": [
       "11124"
      ]
     },
     "execution_count": 13,
     "metadata": {},
     "output_type": "execute_result"
    }
   ],
   "source": [
    "uut = FSDDPipeline(32, 256, 4, 0.1, 4, 8).cuda()\n",
    "sum(p.numel() for p in uut.parameters())"
   ]
  },
  {
   "cell_type": "code",
   "execution_count": 14,
   "metadata": {},
   "outputs": [],
   "source": [
    "# uut.rc.reshape_batchsize(1)\n",
    "# uut.rc.update_feats(0.1*torch.randn(1, 32))\n",
    "# uut.rc.features, (uut.rc.features.abs() > 0.95).sum()\n"
   ]
  },
  {
   "cell_type": "code",
   "execution_count": 15,
   "metadata": {},
   "outputs": [],
   "source": [
    "# uut.rc.reset()\n",
    "# torch.linalg.eigvals(uut.rc.feature_pushforward).abs()"
   ]
  },
  {
   "cell_type": "code",
   "execution_count": null,
   "metadata": {},
   "outputs": [],
   "source": [
    "# import schedulefree\n",
    "# adam = schedulefree.AdamWScheduleFree(uut.parameters())\n",
    "# opt = AdamE...\n",
    "\n",
    "# torch.autograd.set_grad_enabled(False)\n",
    "# AdamWEnsembleOptimizer\n",
    "opt = HybridEnsGradOptimizer(uut, 700, BATCH, 10, \n",
    "                             gpus=[f\"cuda:{i}\" for i in [0, 1, 3, 4, 5, 6, 7]], # kenneth is pinning gpu 2\n",
    "                             ens_lr = 0.0025,\n",
    "                             grad_lr = 0.005,\n",
    "                             init_weight_std = 0.05,\n",
    "                             noise_sched = ExpAnnealingNS(0.05, 0.005, 1-1e-9),\n",
    "                             criterion = F.cross_entropy\n",
    ")\n",
    "opt.modelget_timeout = 30                             "
   ]
  },
  {
   "cell_type": "code",
   "execution_count": 17,
   "metadata": {},
   "outputs": [],
   "source": [
    "# opt.debug_model().shape"
   ]
  },
  {
   "cell_type": "code",
   "execution_count": null,
   "metadata": {},
   "outputs": [],
   "source": []
  },
  {
   "cell_type": "code",
   "execution_count": 18,
   "metadata": {},
   "outputs": [],
   "source": [
    "# (uut.rc.feature_pushforward < 0).sum()"
   ]
  },
  {
   "cell_type": "code",
   "execution_count": 19,
   "metadata": {},
   "outputs": [],
   "source": [
    "def clear_opt(opt):\n",
    "    for xq, eflag, proc in zip(opt.x_qs, opt.exit_flags, opt.processes):\n",
    "        eflag.set()\n",
    "        xq.put(torch.zeros(1)) # dummy input push necessary for exit\n",
    "        proc.join(timeout=1)\n",
    "        eflag.clear()\n",
    "    del opt\n",
    "    import gc\n",
    "    gc.collect()\n",
    "    torch.cuda.empty_cache()"
   ]
  },
  {
   "cell_type": "code",
   "execution_count": 20,
   "metadata": {},
   "outputs": [],
   "source": [
    "# clear_opt(opt)"
   ]
  },
  {
   "cell_type": "code",
   "execution_count": null,
   "metadata": {},
   "outputs": [
    {
     "data": {
      "application/vnd.jupyter.widget-view+json": {
       "model_id": "40ee2d965b124f8488adfe6cbcbadf43",
       "version_major": 2,
       "version_minor": 0
      },
      "text/plain": [
       "  0%|          | 0/1000 [00:00<?, ?it/s]"
      ]
     },
     "metadata": {},
     "output_type": "display_data"
    },
    {
     "name": "stdout",
     "output_type": "stream",
     "text": [
      "---------------------- epoch 509 ---------------------------\n",
      "Test CrossEntropy 2.066 | mean uncert 0.1541 | label precision 0.0250\n",
      "-------------------------------------------------\n",
      "---------------------- epoch 519 ---------------------------\n",
      "Test CrossEntropy 2.066 | mean uncert 0.1559 | label precision 0.0250\n",
      "-------------------------------------------------\n",
      "---------------------- epoch 529 ---------------------------\n",
      "Test CrossEntropy 2.062 | mean uncert 0.1574 | label precision 0.0250\n",
      "-------------------------------------------------\n",
      "---------------------- epoch 539 ---------------------------\n",
      "Test CrossEntropy 2.06 | mean uncert 0.1589 | label precision 0.0250\n",
      "-------------------------------------------------\n",
      "---------------------- epoch 549 ---------------------------\n",
      "Test CrossEntropy 2.061 | mean uncert 0.1607 | label precision 0.0250\n",
      "Validation Accuracy 0.2917\n",
      "-------------------------------------------------\n",
      "---------------------- epoch 559 ---------------------------\n",
      "Test CrossEntropy 2.06 | mean uncert 0.1625 | label precision 0.0250\n",
      "-------------------------------------------------\n",
      "---------------------- epoch 569 ---------------------------\n",
      "Test CrossEntropy 2.06 | mean uncert 0.1641 | label precision 0.0250\n",
      "-------------------------------------------------\n",
      "---------------------- epoch 579 ---------------------------\n",
      "Test CrossEntropy 2.061 | mean uncert 0.1659 | label precision 0.0250\n",
      "-------------------------------------------------\n",
      "---------------------- epoch 589 ---------------------------\n",
      "Test CrossEntropy 2.058 | mean uncert 0.1678 | label precision 0.0250\n",
      "-------------------------------------------------\n",
      "---------------------- epoch 599 ---------------------------\n",
      "Test CrossEntropy 2.061 | mean uncert 0.1696 | label precision 0.0250\n",
      "Validation Accuracy 0.3033\n",
      "-------------------------------------------------\n",
      "---------------------- epoch 609 ---------------------------\n",
      "Test CrossEntropy 2.064 | mean uncert 0.1718 | label precision 0.0250\n",
      "-------------------------------------------------\n",
      "---------------------- epoch 619 ---------------------------\n",
      "Test CrossEntropy 2.063 | mean uncert 0.1741 | label precision 0.0250\n",
      "-------------------------------------------------\n",
      "---------------------- epoch 629 ---------------------------\n",
      "Test CrossEntropy 2.061 | mean uncert 0.1763 | label precision 0.0250\n",
      "-------------------------------------------------\n",
      "---------------------- epoch 639 ---------------------------\n",
      "Test CrossEntropy 2.062 | mean uncert 0.1785 | label precision 0.0250\n",
      "-------------------------------------------------\n",
      "---------------------- epoch 649 ---------------------------\n",
      "Test CrossEntropy 2.061 | mean uncert 0.1810 | label precision 0.0250\n",
      "Validation Accuracy 0.3\n",
      "-------------------------------------------------\n",
      "---------------------- epoch 659 ---------------------------\n",
      "Test CrossEntropy 2.061 | mean uncert 0.1835 | label precision 0.0250\n",
      "-------------------------------------------------\n",
      "---------------------- epoch 669 ---------------------------\n",
      "Test CrossEntropy 2.06 | mean uncert 0.1859 | label precision 0.0250\n",
      "-------------------------------------------------\n",
      "---------------------- epoch 679 ---------------------------\n",
      "Test CrossEntropy 2.062 | mean uncert 0.1884 | label precision 0.0250\n",
      "-------------------------------------------------\n",
      "---------------------- epoch 689 ---------------------------\n",
      "Test CrossEntropy 2.059 | mean uncert 0.1909 | label precision 0.0250\n",
      "-------------------------------------------------\n",
      "---------------------- epoch 699 ---------------------------\n",
      "Test CrossEntropy 2.057 | mean uncert 0.1934 | label precision 0.0250\n",
      "Validation Accuracy 0.31\n",
      "-------------------------------------------------\n",
      "---------------------- epoch 709 ---------------------------\n",
      "Test CrossEntropy 2.06 | mean uncert 0.1959 | label precision 0.0250\n",
      "-------------------------------------------------\n",
      "---------------------- epoch 719 ---------------------------\n",
      "Test CrossEntropy 2.061 | mean uncert 0.1991 | label precision 0.0250\n",
      "-------------------------------------------------\n",
      "---------------------- epoch 729 ---------------------------\n",
      "Test CrossEntropy 2.057 | mean uncert 0.2023 | label precision 0.0250\n",
      "-------------------------------------------------\n",
      "---------------------- epoch 739 ---------------------------\n",
      "Test CrossEntropy 2.06 | mean uncert 0.2055 | label precision 0.0250\n",
      "-------------------------------------------------\n",
      "---------------------- epoch 749 ---------------------------\n",
      "Test CrossEntropy 2.054 | mean uncert 0.2090 | label precision 0.0250\n",
      "Validation Accuracy 0.315\n",
      "-------------------------------------------------\n",
      "---------------------- epoch 759 ---------------------------\n",
      "Test CrossEntropy 2.056 | mean uncert 0.2125 | label precision 0.0250\n",
      "-------------------------------------------------\n",
      "---------------------- epoch 769 ---------------------------\n",
      "Test CrossEntropy 2.06 | mean uncert 0.2156 | label precision 0.0250\n",
      "-------------------------------------------------\n",
      "---------------------- epoch 779 ---------------------------\n",
      "Test CrossEntropy 2.056 | mean uncert 0.2188 | label precision 0.0250\n",
      "-------------------------------------------------\n",
      "---------------------- epoch 789 ---------------------------\n",
      "Test CrossEntropy 2.057 | mean uncert 0.2223 | label precision 0.0250\n",
      "-------------------------------------------------\n",
      "---------------------- epoch 799 ---------------------------\n",
      "Test CrossEntropy 2.055 | mean uncert 0.2257 | label precision 0.0250\n",
      "Validation Accuracy 0.305\n",
      "-------------------------------------------------\n",
      "---------------------- epoch 809 ---------------------------\n",
      "Test CrossEntropy 2.055 | mean uncert 0.2295 | label precision 0.0250\n",
      "-------------------------------------------------\n",
      "---------------------- epoch 819 ---------------------------\n",
      "Test CrossEntropy 2.051 | mean uncert 0.2334 | label precision 0.0250\n",
      "-------------------------------------------------\n",
      "---------------------- epoch 829 ---------------------------\n",
      "Test CrossEntropy 2.053 | mean uncert 0.2374 | label precision 0.0250\n",
      "-------------------------------------------------\n",
      "---------------------- epoch 839 ---------------------------\n",
      "Test CrossEntropy 2.055 | mean uncert 0.2412 | label precision 0.0250\n",
      "-------------------------------------------------\n",
      "---------------------- epoch 849 ---------------------------\n",
      "Test CrossEntropy 2.052 | mean uncert 0.2453 | label precision 0.0250\n",
      "Validation Accuracy 0.315\n",
      "-------------------------------------------------\n",
      "---------------------- epoch 859 ---------------------------\n",
      "Test CrossEntropy 2.049 | mean uncert 0.2500 | label precision 0.0250\n",
      "-------------------------------------------------\n",
      "---------------------- epoch 869 ---------------------------\n",
      "Test CrossEntropy 2.056 | mean uncert 0.2533 | label precision 0.0250\n",
      "-------------------------------------------------\n",
      "---------------------- epoch 879 ---------------------------\n",
      "Test CrossEntropy 2.049 | mean uncert 0.2573 | label precision 0.0250\n",
      "-------------------------------------------------\n",
      "---------------------- epoch 889 ---------------------------\n",
      "Test CrossEntropy 2.049 | mean uncert 0.2598 | label precision 0.0250\n",
      "-------------------------------------------------\n",
      "---------------------- epoch 899 ---------------------------\n",
      "Test CrossEntropy 2.045 | mean uncert 0.2633 | label precision 0.0250\n",
      "Validation Accuracy 0.3317\n",
      "-------------------------------------------------\n",
      "---------------------- epoch 909 ---------------------------\n",
      "Test CrossEntropy 2.029 | mean uncert 0.2651 | label precision 0.0250\n",
      "-------------------------------------------------\n",
      "---------------------- epoch 919 ---------------------------\n",
      "Test CrossEntropy 2.011 | mean uncert 0.2687 | label precision 0.0250\n",
      "-------------------------------------------------\n",
      "---------------------- epoch 929 ---------------------------\n",
      "Test CrossEntropy 2.0 | mean uncert 0.2732 | label precision 0.0250\n",
      "-------------------------------------------------\n",
      "---------------------- epoch 939 ---------------------------\n",
      "Test CrossEntropy 1.991 | mean uncert 0.2772 | label precision 0.0250\n",
      "-------------------------------------------------\n",
      "---------------------- epoch 949 ---------------------------\n",
      "Test CrossEntropy 1.991 | mean uncert 0.2815 | label precision 0.0250\n",
      "Validation Accuracy 0.345\n",
      "-------------------------------------------------\n",
      "---------------------- epoch 959 ---------------------------\n",
      "Test CrossEntropy 1.988 | mean uncert 0.2876 | label precision 0.0250\n",
      "-------------------------------------------------\n",
      "---------------------- epoch 969 ---------------------------\n",
      "Test CrossEntropy 1.989 | mean uncert 0.2941 | label precision 0.0250\n",
      "-------------------------------------------------\n",
      "---------------------- epoch 979 ---------------------------\n",
      "Test CrossEntropy 1.984 | mean uncert 0.3010 | label precision 0.0250\n",
      "-------------------------------------------------\n",
      "---------------------- epoch 989 ---------------------------\n",
      "Test CrossEntropy 1.98 | mean uncert 0.3067 | label precision 0.0250\n",
      "-------------------------------------------------\n",
      "---------------------- epoch 999 ---------------------------\n",
      "Test CrossEntropy 1.968 | mean uncert 0.3121 | label precision 0.0250\n",
      "Validation Accuracy 0.3383\n",
      "-------------------------------------------------\n",
      "---------------------- epoch 1009 ---------------------------\n",
      "Test CrossEntropy 1.958 | mean uncert 0.3159 | label precision 0.0250\n",
      "-------------------------------------------------\n",
      "---------------------- epoch 1019 ---------------------------\n",
      "Test CrossEntropy 1.949 | mean uncert 0.3173 | label precision 0.0250\n",
      "-------------------------------------------------\n",
      "---------------------- epoch 1029 ---------------------------\n",
      "Test CrossEntropy 1.928 | mean uncert 0.3173 | label precision 0.0250\n",
      "-------------------------------------------------\n",
      "---------------------- epoch 1039 ---------------------------\n",
      "Test CrossEntropy 1.927 | mean uncert 0.3178 | label precision 0.0250\n",
      "-------------------------------------------------\n",
      "---------------------- epoch 1049 ---------------------------\n",
      "Test CrossEntropy 1.959 | mean uncert 0.3178 | label precision 0.0250\n",
      "Validation Accuracy 0.3667\n",
      "-------------------------------------------------\n",
      "---------------------- epoch 1059 ---------------------------\n",
      "Test CrossEntropy 1.984 | mean uncert 0.3195 | label precision 0.0250\n",
      "-------------------------------------------------\n",
      "---------------------- epoch 1069 ---------------------------\n",
      "Test CrossEntropy 1.984 | mean uncert 0.3233 | label precision 0.0250\n",
      "-------------------------------------------------\n",
      "---------------------- epoch 1079 ---------------------------\n",
      "Test CrossEntropy 1.99 | mean uncert 0.3265 | label precision 0.0250\n",
      "-------------------------------------------------\n",
      "---------------------- epoch 1089 ---------------------------\n",
      "Test CrossEntropy 2.003 | mean uncert 0.3297 | label precision 0.0250\n",
      "-------------------------------------------------\n",
      "---------------------- epoch 1099 ---------------------------\n",
      "Test CrossEntropy 2.003 | mean uncert 0.3336 | label precision 0.0250\n",
      "Validation Accuracy 0.35\n",
      "-------------------------------------------------\n",
      "---------------------- epoch 1109 ---------------------------\n",
      "Test CrossEntropy 2.004 | mean uncert 0.3376 | label precision 0.0250\n",
      "-------------------------------------------------\n",
      "---------------------- epoch 1119 ---------------------------\n",
      "Test CrossEntropy 1.993 | mean uncert 0.3402 | label precision 0.0250\n",
      "-------------------------------------------------\n",
      "---------------------- epoch 1129 ---------------------------\n",
      "Test CrossEntropy 1.988 | mean uncert 0.3421 | label precision 0.0250\n",
      "-------------------------------------------------\n",
      "---------------------- epoch 1139 ---------------------------\n",
      "Test CrossEntropy 1.995 | mean uncert 0.3460 | label precision 0.0250\n",
      "-------------------------------------------------\n",
      "---------------------- epoch 1149 ---------------------------\n",
      "Test CrossEntropy 2.001 | mean uncert 0.3501 | label precision 0.0250\n",
      "Validation Accuracy 0.345\n",
      "-------------------------------------------------\n",
      "---------------------- epoch 1159 ---------------------------\n",
      "Test CrossEntropy 1.992 | mean uncert 0.3540 | label precision 0.0250\n",
      "-------------------------------------------------\n",
      "---------------------- epoch 1169 ---------------------------\n",
      "Test CrossEntropy 1.989 | mean uncert 0.3601 | label precision 0.0250\n",
      "-------------------------------------------------\n",
      "---------------------- epoch 1179 ---------------------------\n",
      "Test CrossEntropy 1.967 | mean uncert 0.3647 | label precision 0.0250\n",
      "-------------------------------------------------\n",
      "---------------------- epoch 1189 ---------------------------\n",
      "Test CrossEntropy 1.953 | mean uncert 0.3685 | label precision 0.0250\n",
      "-------------------------------------------------\n",
      "---------------------- epoch 1199 ---------------------------\n",
      "Test CrossEntropy 1.96 | mean uncert 0.3741 | label precision 0.0250\n",
      "Validation Accuracy 0.335\n",
      "-------------------------------------------------\n",
      "---------------------- epoch 1209 ---------------------------\n",
      "Test CrossEntropy 1.969 | mean uncert 0.3772 | label precision 0.0250\n",
      "-------------------------------------------------\n",
      "---------------------- epoch 1219 ---------------------------\n",
      "Test CrossEntropy 1.968 | mean uncert 0.3810 | label precision 0.0250\n",
      "-------------------------------------------------\n",
      "---------------------- epoch 1229 ---------------------------\n",
      "Test CrossEntropy 1.973 | mean uncert 0.3865 | label precision 0.0250\n",
      "-------------------------------------------------\n",
      "---------------------- epoch 1239 ---------------------------\n",
      "Test CrossEntropy 1.974 | mean uncert 0.3925 | label precision 0.0250\n",
      "-------------------------------------------------\n",
      "---------------------- epoch 1249 ---------------------------\n",
      "Test CrossEntropy 1.963 | mean uncert 0.4006 | label precision 0.0250\n",
      "Validation Accuracy 0.3583\n",
      "-------------------------------------------------\n",
      "---------------------- epoch 1259 ---------------------------\n",
      "Test CrossEntropy 1.947 | mean uncert 0.4077 | label precision 0.0250\n",
      "-------------------------------------------------\n",
      "---------------------- epoch 1269 ---------------------------\n",
      "Test CrossEntropy 1.926 | mean uncert 0.4132 | label precision 0.0250\n",
      "-------------------------------------------------\n",
      "---------------------- epoch 1279 ---------------------------\n",
      "Test CrossEntropy 1.91 | mean uncert 0.4186 | label precision 0.0250\n",
      "-------------------------------------------------\n",
      "---------------------- epoch 1289 ---------------------------\n",
      "Test CrossEntropy 1.906 | mean uncert 0.4239 | label precision 0.0250\n",
      "-------------------------------------------------\n",
      "---------------------- epoch 1299 ---------------------------\n",
      "Test CrossEntropy 1.904 | mean uncert 0.4285 | label precision 0.0250\n",
      "Validation Accuracy 0.3667\n",
      "-------------------------------------------------\n",
      "---------------------- epoch 1309 ---------------------------\n",
      "Test CrossEntropy 1.91 | mean uncert 0.4332 | label precision 0.0250\n",
      "-------------------------------------------------\n",
      "---------------------- epoch 1319 ---------------------------\n",
      "Test CrossEntropy 1.915 | mean uncert 0.4386 | label precision 0.0250\n",
      "-------------------------------------------------\n",
      "---------------------- epoch 1329 ---------------------------\n",
      "Test CrossEntropy 1.907 | mean uncert 0.4461 | label precision 0.0250\n",
      "-------------------------------------------------\n",
      "---------------------- epoch 1339 ---------------------------\n",
      "Test CrossEntropy 1.912 | mean uncert 0.4520 | label precision 0.0250\n",
      "-------------------------------------------------\n",
      "---------------------- epoch 1349 ---------------------------\n",
      "Test CrossEntropy 1.903 | mean uncert 0.4560 | label precision 0.0250\n",
      "Validation Accuracy 0.3817\n",
      "-------------------------------------------------\n",
      "---------------------- epoch 1359 ---------------------------\n",
      "Test CrossEntropy 1.9 | mean uncert 0.4616 | label precision 0.0250\n",
      "-------------------------------------------------\n",
      "---------------------- epoch 1369 ---------------------------\n",
      "Test CrossEntropy 1.899 | mean uncert 0.4654 | label precision 0.0250\n",
      "-------------------------------------------------\n",
      "---------------------- epoch 1379 ---------------------------\n",
      "Test CrossEntropy 1.883 | mean uncert 0.4688 | label precision 0.0250\n",
      "-------------------------------------------------\n",
      "---------------------- epoch 1389 ---------------------------\n",
      "Test CrossEntropy 1.887 | mean uncert 0.4694 | label precision 0.0250\n",
      "-------------------------------------------------\n",
      "---------------------- epoch 1399 ---------------------------\n",
      "Test CrossEntropy 1.894 | mean uncert 0.4703 | label precision 0.0250\n",
      "Validation Accuracy 0.3517\n",
      "-------------------------------------------------\n",
      "---------------------- epoch 1409 ---------------------------\n",
      "Test CrossEntropy 1.897 | mean uncert 0.4747 | label precision 0.0250\n",
      "-------------------------------------------------\n",
      "---------------------- epoch 1419 ---------------------------\n",
      "Test CrossEntropy 1.89 | mean uncert 0.4804 | label precision 0.0250\n",
      "-------------------------------------------------\n",
      "---------------------- epoch 1429 ---------------------------\n",
      "Test CrossEntropy 1.883 | mean uncert 0.4864 | label precision 0.0250\n",
      "-------------------------------------------------\n",
      "---------------------- epoch 1439 ---------------------------\n",
      "Test CrossEntropy 1.872 | mean uncert 0.4904 | label precision 0.0250\n",
      "-------------------------------------------------\n",
      "---------------------- epoch 1449 ---------------------------\n",
      "Test CrossEntropy 1.859 | mean uncert 0.4936 | label precision 0.0250\n",
      "Validation Accuracy 0.37\n",
      "-------------------------------------------------\n",
      "---------------------- epoch 1459 ---------------------------\n",
      "Test CrossEntropy 1.848 | mean uncert 0.4988 | label precision 0.0250\n",
      "-------------------------------------------------\n",
      "---------------------- epoch 1469 ---------------------------\n",
      "Test CrossEntropy 1.839 | mean uncert 0.5021 | label precision 0.0250\n",
      "-------------------------------------------------\n",
      "---------------------- epoch 1479 ---------------------------\n",
      "Test CrossEntropy 1.845 | mean uncert 0.5024 | label precision 0.0250\n",
      "-------------------------------------------------\n",
      "---------------------- epoch 1489 ---------------------------\n",
      "Test CrossEntropy 1.849 | mean uncert 0.5053 | label precision 0.0250\n",
      "-------------------------------------------------\n",
      "---------------------- epoch 1499 ---------------------------\n",
      "Test CrossEntropy 1.855 | mean uncert 0.5086 | label precision 0.0250\n",
      "Validation Accuracy 0.3783\n",
      "-------------------------------------------------\n"
     ]
    }
   ],
   "source": [
    "# L1reg = 1e-5\n",
    "NEPOCH = 2500\n",
    "for i in tqdm(range(1500, NEPOCH)):\n",
    "    # uut.train()\n",
    "    # adam.train()\n",
    "    l, u, prec = None, None, None\n",
    "    for j, (X, _, y) in enumerate(train_gen):\n",
    "            X, y = X.cuda(), y.cuda()\n",
    "            if X.shape[0] != BATCH:\n",
    "                continue\n",
    "            Y = F.one_hot(y, 10)\n",
    "            \n",
    "            # adam.zero_grad()\n",
    "            # loss = F.cross_entropy(uut(X), y)\n",
    "            # loss.backward()\n",
    "            # adam.step()\n",
    "            \n",
    "            loss_closure = lambda: F.cross_entropy(opt.forward_model(X), y) #+ L1reg*dict(uut.named_modules())['2'].w_out.abs().sum()\n",
    "            \n",
    "            l, u, prec = opt.ens_step(X, Y.float(), loss_closure)\n",
    "            # if (j+1) % 10 == 0:\n",
    "            #     print(f\"epoch {i} step {j} => loss {l.item():>0.4f} | mean uncert {u[1].item():>0.4f} | label precision {prec.item():>0.4f}\")\n",
    "\n",
    "    # uut.eval()\n",
    "    # adam.eval()\n",
    "    if (i + 1) % 10 == 0:\n",
    "        test_X, _, test_y = next(iter(test_gen))\n",
    "        test_X, test_y = test_X.cuda(), test_y.cuda()\n",
    "        # opt.forward_model\n",
    "        print(f\"---------------------- epoch {i} ---------------------------\")\n",
    "        print(f\"Test CrossEntropy {torch.nn.functional.cross_entropy(uut(test_X), test_y).item():>.4} | mean uncert {u[1].item():>0.4f} | label precision {prec.item():>0.4f}\")\n",
    "        if (i+1) % 50 == 0:\n",
    "\n",
    "            val_X, _, val_y = next(iter(val_gen))\n",
    "            val_X, val_y = val_X.cuda(), val_y.cuda()\n",
    "            yhat = uut(val_X) \n",
    "            acc = (yhat.argmax(-1) == val_y).sum() / val_y.numel()\n",
    "            print(f\"Validation Accuracy {acc.item():>.4}\")\n",
    "        print(\"-------------------------------------------------\")"
   ]
  },
  {
   "cell_type": "code",
   "execution_count": 48,
   "metadata": {},
   "outputs": [
    {
     "data": {
      "text/plain": [
       "390.0"
      ]
     },
     "execution_count": 48,
     "metadata": {},
     "output_type": "execute_result"
    }
   ],
   "source": [
    "19500/50"
   ]
  },
  {
   "cell_type": "code",
   "execution_count": null,
   "metadata": {},
   "outputs": [],
   "source": [
    "named_ckpts = list(uut.named_parameters())\n",
    "for name, ckpt in named_ckpts:\n",
    "    torch.save(ckpt, f\"ckpt/{name}_epoch{NEPOCH}.tensor\")"
   ]
  },
  {
   "cell_type": "code",
   "execution_count": 51,
   "metadata": {},
   "outputs": [
    {
     "data": {
      "text/plain": [
       "(torch.Size([64, 10]), torch.Size([64, 1, 10048]), torch.Size([64]))"
      ]
     },
     "execution_count": 51,
     "metadata": {},
     "output_type": "execute_result"
    }
   ],
   "source": [
    "uut(next(iter(train_gen))[0].cuda()).shape, next(iter(train_gen))[0].shape, next(iter(train_gen))[-1].shape"
   ]
  },
  {
   "cell_type": "code",
   "execution_count": 52,
   "metadata": {},
   "outputs": [
    {
     "data": {
      "text/plain": [
       "tensor(0.3783, device='cuda:0')"
      ]
     },
     "execution_count": 52,
     "metadata": {},
     "output_type": "execute_result"
    }
   ],
   "source": [
    "val_X, _, val_y = next(iter(val_gen))\n",
    "val_X, val_y = val_X.cuda(), val_y.cuda()\n",
    "yhat = uut(val_X)\n",
    "(yhat.argmax(-1) == val_y).sum() / val_y.numel()"
   ]
  },
  {
   "cell_type": "code",
   "execution_count": 53,
   "metadata": {},
   "outputs": [
    {
     "data": {
      "image/png": "[encoded data removed]",
      "text/plain": [
       "<Figure size 640x480 with 10 Axes>"
      ]
     },
     "metadata": {},
     "output_type": "display_data"
    }
   ],
   "source": [
    "f, axs = plt.subplots(2, 5, sharex = True, sharey=True)\n",
    "for i in range(2):\n",
    "    for j in range(5):\n",
    "        axs[i, j].hist(pltr(yhat[:,5*i + j]), bins = 50)\n",
    "        axs[i, j].set_title(f\"class {5*i+j}\")\n",
    "plt.show()"
   ]
  },
  {
   "cell_type": "code",
   "execution_count": 54,
   "metadata": {},
   "outputs": [
    {
     "data": {
      "text/plain": [
       "tensor([0, 1, 2, 3, 4, 5, 6, 7, 8, 9], device='cuda:0')"
      ]
     },
     "execution_count": 54,
     "metadata": {},
     "output_type": "execute_result"
    }
   ],
   "source": [
    "val_y.unique()"
   ]
  },
  {
   "cell_type": "code",
   "execution_count": 55,
   "metadata": {},
   "outputs": [
    {
     "data": {
      "text/plain": [
       "<matplotlib.legend.Legend at 0x7f72cdd2e650>"
      ]
     },
     "execution_count": 55,
     "metadata": {},
     "output_type": "execute_result"
    },
    {
     "data": {
      "image/png": "[encoded data removed]",
      "text/plain": [
       "<Figure size 640x480 with 1 Axes>"
      ]
     },
     "metadata": {},
     "output_type": "display_data"
    }
   ],
   "source": [
    "plt.hist(pltr(val_y), bins=10, label='digit counts')\n",
    "plt.hist(predicted_labels, bins=10, label='predicted digit counts')\n",
    "plt.legend()"
   ]
  },
  {
   "cell_type": "code",
   "execution_count": 56,
   "metadata": {},
   "outputs": [
    {
     "data": {
      "image/png": "[encoded data removed]",
      "text/plain": [
       "<Figure size 800x600 with 2 Axes>"
      ]
     },
     "metadata": {},
     "output_type": "display_data"
    }
   ],
   "source": [
    "\n",
    "predicted_labels = np.argmax(pltr(yhat), axis=1)\n",
    "\n",
    "# Compute confusion matrix\n",
    "cm = confusion_matrix(pltr(val_y), predicted_labels)\n",
    "\n",
    "# Plot confusion matrix\n",
    "plt.figure(figsize=(8, 6))\n",
    "sns.heatmap(cm, annot=True, fmt='d', cmap='magma', xticklabels=np.unique(pltr(val_y)), yticklabels=np.unique(pltr(val_y)))\n",
    "plt.xlabel('Predicted Labels')\n",
    "plt.ylabel('True Labels')\n",
    "plt.title('Confusion')\n",
    "plt.show()"
   ]
  },
  {
   "cell_type": "code",
   "execution_count": 57,
   "metadata": {},
   "outputs": [
    {
     "ename": "ImportError",
     "evalue": "cannot import name 'Color' from 'matplotlib.colors' (/home/theloni/miniconda/envs/iir-torch/lib/python3.11/site-packages/matplotlib/colors.py)",
     "output_type": "error",
     "traceback": [
      "\u001b[0;31m---------------------------------------------------------------------------\u001b[0m",
      "\u001b[0;31mImportError\u001b[0m                               Traceback (most recent call last)",
      "Cell \u001b[0;32mIn[57], line 3\u001b[0m\n\u001b[1;32m      1\u001b[0m \u001b[38;5;28;01mimport\u001b[39;00m \u001b[38;5;21;01mmatplotlib\u001b[39;00m\n\u001b[1;32m      2\u001b[0m \u001b[38;5;28;01mfrom\u001b[39;00m \u001b[38;5;21;01mcolour\u001b[39;00m \u001b[38;5;28;01mimport\u001b[39;00m Color\n\u001b[0;32m----> 3\u001b[0m \u001b[38;5;28;01mfrom\u001b[39;00m \u001b[38;5;21;01mmatplotlib\u001b[39;00m\u001b[38;5;21;01m.\u001b[39;00m\u001b[38;5;21;01mcolors\u001b[39;00m \u001b[38;5;28;01mimport\u001b[39;00m LinearSegmentedColormap, Color\n\u001b[1;32m      4\u001b[0m \u001b[38;5;66;03m# Calculate the total number of errors for each class\u001b[39;00m\n\u001b[1;32m      5\u001b[0m total_errors \u001b[38;5;241m=\u001b[39m cm\u001b[38;5;241m.\u001b[39msum(axis\u001b[38;5;241m=\u001b[39m\u001b[38;5;241m1\u001b[39m) \u001b[38;5;241m-\u001b[39m np\u001b[38;5;241m.\u001b[39mdiag(cm)\n",
      "\u001b[0;31mImportError\u001b[0m: cannot import name 'Color' from 'matplotlib.colors' (/home/theloni/miniconda/envs/iir-torch/lib/python3.11/site-packages/matplotlib/colors.py)"
     ]
    }
   ],
   "source": [
    "import matplotlib\n",
    "from colour import Color\n",
    "from matplotlib.colors import LinearSegmentedColormap, Color\n",
    "# Calculate the total number of errors for each class\n",
    "total_errors = cm.sum(axis=1) - np.diag(cm)\n",
    "\n",
    "# Calculate percentage of the total error contributed by each class\n",
    "cm_percentage_error = (cm.astype('float') / total_errors[:, np.newaxis]) * 100\n",
    "\n",
    "# Plot confusion matrix with percentage error and magma color\n",
    "fig = plt.figure(figsize=(10, 8))\n",
    "ax = fig.add_subplot(111, projection='3d')\n",
    "\n",
    "xpos, ypos = np.meshgrid(np.arange(cm.shape[0]), np.arange(cm.shape[1]), indexing=\"ij\")\n",
    "xpos = xpos.flatten()\n",
    "ypos = ypos.flatten()\n",
    "zpos = np.zeros_like(xpos)\n",
    "dx = dy = 0.5\n",
    "dz = cm.flatten()\n",
    "\n",
    "cvals  = cm_percentage_error.flatten()\n",
    "colors = [\"red\",\"violet\",\"blue\"]\n",
    "\n",
    "norm=plt.Normalize(min(cvals),max(cvals))\n",
    "tuples = list(zip(map(norm,cvals), colors))\n",
    "cmap = matplotlib.colors.LinearSegmentedColormap.from_list(\"\", tuples)\n",
    "\n",
    "ax.bar3d(xpos, ypos, zpos, dx, dy, dz, cmap=cmap, norm=norm, zsort='average')\n",
    "\n",
    "cbar = fig.colorbar(total_errors, ax=ax, extend='both')\n",
    "cbar.minorticks_on()\n",
    "\n",
    "ax.set_xlabel('Predicted Labels')\n",
    "ax.set_ylabel('True Labels')\n",
    "ax.set_zlabel('Number of Errors')\n",
    "ax.set_title('Confusion Matrix (Percentage Error Contribution)')\n",
    "\n",
    "plt.show()"
   ]
  }
 ],
 "metadata": {
  "kernelspec": {
   "display_name": "iir-torch",
   "language": "python",
   "name": "python3"
  },
  "language_info": {
   "codemirror_mode": {
    "name": "ipython",
    "version": 3
   },
   "file_extension": ".py",
   "mimetype": "text/x-python",
   "name": "python",
   "nbconvert_exporter": "python",
   "pygments_lexer": "ipython3",
   "version": "3.11.5"
  }
 },
 "nbformat": 4,
 "nbformat_minor": 2
}

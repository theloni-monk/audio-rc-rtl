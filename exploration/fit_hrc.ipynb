{
 "cells": [
  {
   "cell_type": "code",
   "execution_count": 25,
   "metadata": {},
   "outputs": [],
   "source": [
    "import torch\n",
    "from torch import utils\n",
    "from torch import nn\n",
    "from torch.nn import functional as F\n",
    "from data.torchfsdd.dataset import TorchFSDDGenerator\n",
    "from data.augmentations.randphase import RandomAllPass\n",
    "\n",
    "from tqdm.notebook import tqdm\n",
    "import matplotlib.pyplot as plt, numpy as np"
   ]
  },
  {
   "cell_type": "code",
   "execution_count": 26,
   "metadata": {},
   "outputs": [],
   "source": [
    "from sklearn.metrics import confusion_matrix\n",
    "import seaborn as sns\n",
    "\n",
    "pltr = lambda x: x.cpu().detach().numpy()"
   ]
  },
  {
   "cell_type": "code",
   "execution_count": null,
   "metadata": {},
   "outputs": [],
   "source": [
    "import warnings\n",
    "from data.augmentations.randphase import AllPassFilter\n",
    "from torch_audiomentations import *\n",
    "from models.pqmf import PQMF\n",
    "from optim.ens_optim import HybridEnsGradOptimizer\n"
   ]
  },
  {
   "cell_type": "code",
   "execution_count": null,
   "metadata": {},
   "outputs": [
    {
     "ename": "SyntaxError",
     "evalue": "invalid decimal literal (1328553766.py, line 2)",
     "output_type": "error",
     "traceback": [
      "\u001b[0;36m  Cell \u001b[0;32mIn[1], line 2\u001b[0;36m\u001b[0m\n\u001b[0;31m    BATCH = 64k9000\u001b[0m\n\u001b[0m             ^\u001b[0m\n\u001b[0;31mSyntaxError\u001b[0m\u001b[0;31m:\u001b[0m invalid decimal literal\n"
     ]
    }
   ],
   "source": [
    "BANDS = 32\n",
    "BATCH = 64"
   ]
  },
  {
   "cell_type": "code",
   "execution_count": null,
   "metadata": {},
   "outputs": [],
   "source": [
    "# this lib spits some annoying bs so I ignore it\n",
    "with warnings.catch_warnings(action=\"ignore\"):\n",
    "    # Initialize augmentation callable\n",
    "    audio_augmentation = Compose(\n",
    "        transforms=[\n",
    "            Gain(\n",
    "                min_gain_in_db=-15.0,\n",
    "                max_gain_in_db=5.0,\n",
    "                p=0.1,\n",
    "                sample_rate = 8000,\n",
    "                output_type='dict'\n",
    "            ),\n",
    "            AddColoredNoise(p=1,\n",
    "                min_snr_in_db = 5,\n",
    "                max_snr_in_db = 10,\n",
    "                sample_rate = 8000),\n",
    "            Shift(-0.05, 0.2, p=0.1,\n",
    "                sample_rate = 8000,\n",
    "                output_type='dict'),\n",
    "            PolarityInversion(p=0.1,\n",
    "                sample_rate = 8000,\n",
    "                output_type='dict'),\n",
    "            AllPassFilter(sample_rate=8000,\n",
    "                output_type='dict')\n",
    "        ], output_type='dict'\n",
    "    )\n",
    "pqmf = PQMF(100, BANDS)\n",
    "transform = lambda x: pqmf(audio_augmentation(x)['samples'])\n",
    "\n",
    "# Initialize a generator for a local version of FSDD\n",
    "fsdd = TorchFSDDGenerator(version='local', \n",
    "                        path='/home/theloni/audio-rc-rtl/exploration/data/torchfsdd/recordings',\n",
    "                        train_transforms=transform,\n",
    "                        val_transforms=pqmf)\n",
    "\n",
    "train_set, val_set, test_set,   = fsdd.train_val_test_split(test_size=0.05, val_size=0.1)\n",
    "\n",
    "#TODO: add extra labels for noise and silence, and add randomly in the dataloader\n",
    "def collate_fn(batch):\n",
    "    \"\"\"Collects together sequences into a single batch, arranged in descending length order.\"\"\"\n",
    "    batch_size = len(batch)\n",
    "\n",
    "    # Sort the (sequence, label) pairs in descending order of duration\n",
    "    batch.sort(key=(lambda x: len(x[0])), reverse=True)\n",
    "    # Shape: list(tuple(tensor(TxD), int))\n",
    "\n",
    "    # Create list of sequences, and tensors for lengths and labels\n",
    "    sequences,  labels = [], torch.zeros(batch_size, dtype=torch.long)\n",
    "    for i, (sequence, label) in enumerate(batch):\n",
    "        labels[i] = label\n",
    "        sequences.append(sequence)\n",
    "\n",
    "    # Combine sequences into a padded matrix\n",
    "    stacked_sequences = torch.cat(sequences, dim=0)#torch.nn.utils.rnn.pad_sequence(sequences, batch_first=True)\n",
    "    # Shape: (B x C x T_max)\n",
    "\n",
    "    return stacked_sequences, labels\n",
    "    # Shapes: (B x C x T_max), (B,)\n"
   ]
  },
  {
   "cell_type": "code",
   "execution_count": 30,
   "metadata": {},
   "outputs": [],
   "source": [
    "train_gen = utils.data.DataLoader(train_set, collate_fn=collate_fn, batch_size=BATCH, shuffle=True, pin_memory=True)\n",
    "val_gen = utils.data.DataLoader(val_set, collate_fn=collate_fn, batch_size=len(val_set))\n",
    "test_gen = utils.data.DataLoader(test_set, collate_fn=collate_fn, batch_size=len(test_set))"
   ]
  },
  {
   "cell_type": "code",
   "execution_count": null,
   "metadata": {},
   "outputs": [],
   "source": [
    "import argparse\n",
    "parser = argparse.ArgumentParser()\n",
    "\n",
    "parser.add_argument(\"--train2epoch\", \"-e\", type=int)\n",
    "parser.add_argument(\"--ckptfolder\", \"-c\", default=\"ckpt\")\n",
    "\n",
    "parser.add_argument(\"--bands\", default=32, type=int)\n",
    "parser.add_argument(\"--feats\", default=32, type=int)\n",
    "\n",
    "parser.add_argument(\"--saveevery\", default=250, type=int)\n",
    "parser.add_argument(\"--testevery\", \"-t\", default=50, type=int)\n",
    "parser.add_argument(\"--valevery\", \"-v\", default=50, type=int)\n",
    "\n",
    "parser.add_argument(\"--nens\", \"-n\", default=800)\n",
    "parser.add_argument(\"--batch\", \"-b\", default=64)\n",
    "\n",
    "parser.add_argument(\"--enslr\",  default=0.0025, type=float)\n",
    "parser.add_argument(\"--enssched\", choices = ['const', 'exp', 'cos'], default='exp')\n",
    "parser.add_argument(\"--ensschedtau\", default=0.9, type=float)\n",
    "parser.add_argument(\"--ensschedmin\", default=1e-6, type=float)\n",
    "\n",
    "parser.add_argument(\"--gradlr\",  default=0.01, type=float)\n",
    "parser.add_argument(\"--gradsched\", choices = ['const', 'exp', 'cos'], default='cos')\n",
    "parser.add_argument(\"--gradschedpshift\", default=0, type=float)\n",
    "parser.add_argument(\"--gradschedtau\", default=60, type=float)\n",
    "parser.add_argument(\"--gradschedmin\", default=1e-4, type=float)\n",
    "\n",
    "parser.add_argument(\"--gradwrperiod\", default=33, type=float)\n",
    "parser.add_argument(\"--enswrperiod\", default=-1, type=float)\n",
    "\n",
    "parser.add_argument(\"--gradwrdecay\", default=1.0, type=float)\n",
    "parser.add_argument(\"--enswrdecay\", default=0.5, type=float)\n",
    "\n",
    "parser.add_argument(\"--wstd\", default = 1.0, type=float)\n",
    "parser.add_argument(\"--prec\", default = 0.1, type=float)\n",
    "\n",
    "parser.add_argument(\"--aug\", \"-a\", default=False, action='store_true')\n",
    "\n",
    "args = parser.parse_args(100)"
   ]
  },
  {
   "cell_type": "code",
   "execution_count": 7,
   "metadata": {},
   "outputs": [],
   "source": [
    "from models.pqmf import PQMF\n",
    "from models.rc import LowBit_RC\n",
    "from models.fir import FIRBlock\n",
    "from models.h_rc import HierarchicalNonlinTSModel"
   ]
  },
  {
   "cell_type": "code",
   "execution_count": 8,
   "metadata": {},
   "outputs": [],
   "source": [
    "def build_h_rc_pipeline(in_bands, bits, degree, freductions, rreductions):\n",
    "    h = HierarchicalNonlinTSModel(in_bands, 10, 8000, \n",
    "                                  freductions, rreductions,\n",
    "                                  LowBit_RC, # bits seed degree spec_rad indim outdim\n",
    "                                  [bits, 69, degree, 0.1])\n",
    "    return PQMF(100, in_bands), h"
   ]
  },
  {
   "cell_type": "code",
   "execution_count": 9,
   "metadata": {},
   "outputs": [],
   "source": [
    "def build_h_fir_pipeline(in_bands, kwidth, degree, freductions, rreductions):\n",
    "    h = HierarchicalNonlinTSModel(in_bands, 10, 8000, \n",
    "                                  freductions, rreductions,\n",
    "                                  FIRBlock,\n",
    "                                  [kwidth, degree])\n",
    "    return PQMF(100, in_bands), h"
   ]
  },
  {
   "cell_type": "code",
   "execution_count": 10,
   "metadata": {},
   "outputs": [
    {
     "data": {
      "text/plain": [
       "25310"
      ]
     },
     "execution_count": 10,
     "metadata": {},
     "output_type": "execute_result"
    }
   ],
   "source": [
    "pqmf, uut = build_h_fir_pipeline(32, 31, 4, [0.25, 4, 2], [8, 8, 8]) #build_h_rc_pipeline(64, 4, 4, [2, 2, 1], [8, 8, 4])\n",
    "uut = uut.cuda()\n",
    "sum(p.numel() for p in uut.parameters())"
   ]
  },
  {
   "cell_type": "code",
   "execution_count": 11,
   "metadata": {},
   "outputs": [
    {
     "name": "stderr",
     "output_type": "stream",
     "text": [
      "/net/flood/home/theloni/audio-rc-rtl/exploration/models/pqmf.py:105: UserWarning: Applied workaround for CuDNN issue, install nvrtc.so (Triggered internally at ../aten/src/ATen/native/cudnn/Conv_v8.cpp:80.)\n",
      "  x = nn.functional.conv1d(x, hk, padding=hk.shape[-1] // 2)[..., :-1]\n"
     ]
    },
    {
     "data": {
      "text/plain": [
       "torch.Size([64, 10, 1])"
      ]
     },
     "execution_count": 11,
     "metadata": {},
     "output_type": "execute_result"
    }
   ],
   "source": [
    "X, _, y = next(iter(train_gen))\n",
    "uut(pqmf(X.cuda())).shape"
   ]
  },
  {
   "cell_type": "code",
   "execution_count": null,
   "metadata": {},
   "outputs": [],
   "source": [
    "from optim.schedules.sched import *\n",
    "from optim.schedules.noise_sched import *"
   ]
  },
  {
   "cell_type": "code",
   "execution_count": null,
   "metadata": {},
   "outputs": [],
   "source": [
    "ensopt = HybridEnsGradOptimizer(uut, args.nens, args.batch, 10, \n",
    "                             gpus=[f\"cuda:{i}\" for i in range(torch.cuda.device_count())],\n",
    "                             ens_lr = args.enslr,\n",
    "                             grad_lr = args.gradlr,\n",
    "                             init_weight_std = args.wstd,\n",
    "                             noise_sched = UncertAnnealingNS(args.prec, 0.001, 0.995),\n",
    "                             obsv_operator = torch.nn.Softmax(dim=1),\n",
    "                             grad_criterion = F.cross_entropy\n",
    "    )\n",
    "ensopt.modelget_timeout = 5     \n",
    "\n",
    "ens_sched = None\n",
    "if args.enssched == 'const':\n",
    "        ens_sched = ConstSched(args.enslr)\n",
    "elif args.enssched == 'exp':\n",
    "        ens_sched = ExpAnnealingSched(args.enslr, args.ensschedtau, min_val=args.ensschedmin)\n",
    "elif args.enssched == 'cos':\n",
    "        ens_sched = CosAnnealingSched(args.enslr, args.ensschedtau, cycles=0.5, min_val=args.ensschedmin)\n",
    "else:\n",
    "        assert False\n",
    "if args.enswrperiod > 0:\n",
    "        ens_sched = WarmRestarter(args.enswrperiod, args.enswrdecay, ens_sched)\n",
    "\n",
    "grad_sched = None\n",
    "if args.gradsched == 'const':\n",
    "        grad_sched = ConstSched(args.gradlr)\n",
    "elif args.enssched == 'exp':\n",
    "        grad_sched = ExpAnnealingSched(args.gradlr, args.gradschedtau, min_val=args.gradschedmin)\n",
    "elif args.gradsched == 'cos':\n",
    "        grad_sched = CosAnnealingSched(args.gradlr, args.gradschedtau, args.gradschedpshift, cycles=0.5,  min_val=args.gradschedmin)\n",
    "else:\n",
    "        assert False\n",
    "if args.gradwrperiod > 0:\n",
    "        grad_sched = WarmRestarter(args.gradwrperiod, args.gradwrdecay, grad_sched)\n",
    "                        "
   ]
  },
  {
   "cell_type": "code",
   "execution_count": 14,
   "metadata": {},
   "outputs": [],
   "source": [
    "# import schedulefree\n",
    "# opt = schedulefree.AdamWScheduleFree(uut.parameters())"
   ]
  },
  {
   "cell_type": "code",
   "execution_count": 15,
   "metadata": {},
   "outputs": [],
   "source": [
    "\n",
    "def readout(i, u, prec):\n",
    "    if i == 0 or (i + 1) % 10 == 0:\n",
    "        test_X, _, test_y = next(iter(test_gen))\n",
    "        with torch.no_grad():\n",
    "                test_X, test_y = pqmf(test_X.cuda()), test_y.cuda()\n",
    "        # opt.forward_model\n",
    "        print(f\"---------------------- epoch {i} ---------------------------\")\n",
    "        print(f\"Test CrossEntropy {F.cross_entropy(uut(test_X)[..., 0], test_y).item():>.4} | mean uncert {u[1].item():>0.4f} | label precision {prec.item():>0.4f}\")\n",
    "        if (i+1) % 25 == 0:\n",
    "            val_X, _, val_y = next(iter(val_gen))\n",
    "            val_X, val_y = pqmf(val_X.cuda()), val_y.cuda()\n",
    "            yhat = uut(val_X)[..., 0]\n",
    "            acc = (yhat.argmax(-1) == val_y).sum() / val_y.numel()\n",
    "            print(f\"Validation Accuracy {acc.item():>.4}\")\n",
    "        print(\"-------------------------------------------------\")"
   ]
  },
  {
   "cell_type": "code",
   "execution_count": null,
   "metadata": {},
   "outputs": [
    {
     "data": {
      "application/vnd.jupyter.widget-view+json": {
       "model_id": "240b6547bf5f41bbad53307ddadfc1d9",
       "version_major": 2,
       "version_minor": 0
      },
      "text/plain": [
       "  0%|          | 0/500 [00:00<?, ?it/s]"
      ]
     },
     "metadata": {},
     "output_type": "display_data"
    },
    {
     "name": "stderr",
     "output_type": "stream",
     "text": [
      "/net/flood/home/theloni/audio-rc-rtl/exploration/models/h_rc.py:36: UserWarning: Applied workaround for CuDNN issue, install nvrtc.so (Triggered internally at ../aten/src/ATen/native/cudnn/Conv_v8.cpp:80.)\n",
      "  return F.conv1d(x, self.antialias.to(x.device), padding='same')[..., torch.arange(0, x.shape[-1], self.dec_fac)] #self.apply(x, self.antialias).flatten(-2, -1)[..., torch.arange(0, x.shape[-1], self.dec_fac)]\n",
      "/net/flood/home/theloni/audio-rc-rtl/exploration/models/h_rc.py:36: UserWarning: Applied workaround for CuDNN issue, install nvrtc.so (Triggered internally at ../aten/src/ATen/native/cudnn/Conv_v8.cpp:80.)\n",
      "  return F.conv1d(x, self.antialias.to(x.device), padding='same')[..., torch.arange(0, x.shape[-1], self.dec_fac)] #self.apply(x, self.antialias).flatten(-2, -1)[..., torch.arange(0, x.shape[-1], self.dec_fac)]\n",
      "/net/flood/home/theloni/audio-rc-rtl/exploration/models/h_rc.py:36: UserWarning: Applied workaround for CuDNN issue, install nvrtc.so (Triggered internally at ../aten/src/ATen/native/cudnn/Conv_v8.cpp:80.)\n",
      "  return F.conv1d(x, self.antialias.to(x.device), padding='same')[..., torch.arange(0, x.shape[-1], self.dec_fac)] #self.apply(x, self.antialias).flatten(-2, -1)[..., torch.arange(0, x.shape[-1], self.dec_fac)]\n",
      "/net/flood/home/theloni/audio-rc-rtl/exploration/models/h_rc.py:36: UserWarning: Applied workaround for CuDNN issue, install nvrtc.so (Triggered internally at ../aten/src/ATen/native/cudnn/Conv_v8.cpp:80.)\n",
      "  return F.conv1d(x, self.antialias.to(x.device), padding='same')[..., torch.arange(0, x.shape[-1], self.dec_fac)] #self.apply(x, self.antialias).flatten(-2, -1)[..., torch.arange(0, x.shape[-1], self.dec_fac)]\n",
      "/net/flood/home/theloni/audio-rc-rtl/exploration/models/h_rc.py:36: UserWarning: Applied workaround for CuDNN issue, install nvrtc.so (Triggered internally at ../aten/src/ATen/native/cudnn/Conv_v8.cpp:80.)\n",
      "  return F.conv1d(x, self.antialias.to(x.device), padding='same')[..., torch.arange(0, x.shape[-1], self.dec_fac)] #self.apply(x, self.antialias).flatten(-2, -1)[..., torch.arange(0, x.shape[-1], self.dec_fac)]\n",
      "/net/flood/home/theloni/audio-rc-rtl/exploration/models/h_rc.py:36: UserWarning: Applied workaround for CuDNN issue, install nvrtc.so (Triggered internally at ../aten/src/ATen/native/cudnn/Conv_v8.cpp:80.)\n",
      "  return F.conv1d(x, self.antialias.to(x.device), padding='same')[..., torch.arange(0, x.shape[-1], self.dec_fac)] #self.apply(x, self.antialias).flatten(-2, -1)[..., torch.arange(0, x.shape[-1], self.dec_fac)]\n",
      "/net/flood/home/theloni/audio-rc-rtl/exploration/models/h_rc.py:36: UserWarning: Applied workaround for CuDNN issue, install nvrtc.so (Triggered internally at ../aten/src/ATen/native/cudnn/Conv_v8.cpp:80.)\n",
      "  return F.conv1d(x, self.antialias.to(x.device), padding='same')[..., torch.arange(0, x.shape[-1], self.dec_fac)] #self.apply(x, self.antialias).flatten(-2, -1)[..., torch.arange(0, x.shape[-1], self.dec_fac)]\n",
      "/net/flood/home/theloni/audio-rc-rtl/exploration/models/h_rc.py:36: UserWarning: Applied workaround for CuDNN issue, install nvrtc.so (Triggered internally at ../aten/src/ATen/native/cudnn/Conv_v8.cpp:80.)\n",
      "  return F.conv1d(x, self.antialias.to(x.device), padding='same')[..., torch.arange(0, x.shape[-1], self.dec_fac)] #self.apply(x, self.antialias).flatten(-2, -1)[..., torch.arange(0, x.shape[-1], self.dec_fac)]\n"
     ]
    },
    {
     "name": "stdout",
     "output_type": "stream",
     "text": [
      "---------------------- epoch 0 ---------------------------\n",
      "Test CrossEntropy 2.303 | mean uncert 0.4998 | label precision 0.0500\n",
      "-------------------------------------------------\n",
      "---------------------- epoch 9 ---------------------------\n",
      "Test CrossEntropy 2.303 | mean uncert 0.4997 | label precision 0.0500\n",
      "-------------------------------------------------\n",
      "---------------------- epoch 19 ---------------------------\n",
      "Test CrossEntropy 2.303 | mean uncert 0.4995 | label precision 0.0500\n",
      "-------------------------------------------------\n",
      "---------------------- epoch 29 ---------------------------\n",
      "Test CrossEntropy 2.303 | mean uncert 0.4991 | label precision 0.0500\n",
      "-------------------------------------------------\n",
      "---------------------- epoch 39 ---------------------------\n",
      "Test CrossEntropy 2.303 | mean uncert 0.4991 | label precision 0.0500\n",
      "-------------------------------------------------\n",
      "---------------------- epoch 49 ---------------------------\n",
      "Test CrossEntropy 2.303 | mean uncert 0.5004 | label precision 0.0500\n",
      "Validation Accuracy 0.1\n",
      "-------------------------------------------------\n"
     ]
    },
    {
     "ename": "KeyboardInterrupt",
     "evalue": "",
     "output_type": "error",
     "traceback": [
      "\u001b[0;31m---------------------------------------------------------------------------\u001b[0m",
      "\u001b[0;31mKeyboardInterrupt\u001b[0m                         Traceback (most recent call last)",
      "Cell \u001b[0;32mIn[16], line 25\u001b[0m\n\u001b[1;32m     21\u001b[0m     Y \u001b[38;5;241m=\u001b[39m F\u001b[38;5;241m.\u001b[39mone_hot(y, \u001b[38;5;241m10\u001b[39m)\n\u001b[1;32m     23\u001b[0m     loss_closure \u001b[38;5;241m=\u001b[39m \u001b[38;5;28;01mlambda\u001b[39;00m: F\u001b[38;5;241m.\u001b[39mcross_entropy(ensopt\u001b[38;5;241m.\u001b[39mforward_model(X)[\u001b[38;5;241m.\u001b[39m\u001b[38;5;241m.\u001b[39m\u001b[38;5;241m.\u001b[39m, \u001b[38;5;241m0\u001b[39m], y) \u001b[38;5;66;03m#+ L1reg*dict(uut.named_modules())['2'].w_out.abs().sum()\u001b[39;00m\n\u001b[0;32m---> 25\u001b[0m     l, u, prec \u001b[38;5;241m=\u001b[39m \u001b[43mensopt\u001b[49m\u001b[38;5;241;43m.\u001b[39;49m\u001b[43mens_step\u001b[49m\u001b[43m(\u001b[49m\u001b[43mX\u001b[49m\u001b[43m,\u001b[49m\u001b[43m \u001b[49m\u001b[43mY\u001b[49m\u001b[38;5;241;43m.\u001b[39;49m\u001b[43mfloat\u001b[49m\u001b[43m(\u001b[49m\u001b[43m)\u001b[49m\u001b[43m,\u001b[49m\u001b[43m \u001b[49m\u001b[43mloss_closure\u001b[49m\u001b[43m)\u001b[49m\n\u001b[1;32m     27\u001b[0m \u001b[38;5;66;03m# opt.eval()\u001b[39;00m\n\u001b[1;32m     28\u001b[0m \u001b[38;5;66;03m# uut.eval()\u001b[39;00m\n\u001b[1;32m     29\u001b[0m \u001b[38;5;28;01mwith\u001b[39;00m torch\u001b[38;5;241m.\u001b[39mno_grad():\n",
      "File \u001b[0;32m/net/flood/home/theloni/audio-rc-rtl/exploration/optim/ens_optim.py:333\u001b[0m, in \u001b[0;36mEnsembleOptimizer.ens_step\u001b[0;34m(self, x, y, loss_closure)\u001b[0m\n\u001b[1;32m    330\u001b[0m \u001b[38;5;66;03m# perform update step\u001b[39;00m\n\u001b[1;32m    331\u001b[0m \u001b[38;5;66;03m# with record_function(\"wens_compute\"):\u001b[39;00m\n\u001b[1;32m    332\u001b[0m \u001b[38;5;28;01mwith\u001b[39;00m torch\u001b[38;5;241m.\u001b[39mno_grad():\n\u001b[0;32m--> 333\u001b[0m     \u001b[38;5;28;43mself\u001b[39;49m\u001b[38;5;241;43m.\u001b[39;49m\u001b[43m_weight_update\u001b[49m\u001b[43m(\u001b[49m\u001b[43m)\u001b[49m\n\u001b[1;32m    335\u001b[0m \u001b[38;5;66;03m# recover optimal weights\u001b[39;00m\n\u001b[1;32m    336\u001b[0m \u001b[38;5;66;03m# with record_function(\"scatter\"):\u001b[39;00m\n\u001b[1;32m    337\u001b[0m w_ens_mean \u001b[38;5;241m=\u001b[39m \u001b[38;5;28mself\u001b[39m\u001b[38;5;241m.\u001b[39m_weight_ens_host\u001b[38;5;241m.\u001b[39mmean(dim\u001b[38;5;241m=\u001b[39m\u001b[38;5;241m1\u001b[39m)\n",
      "File \u001b[0;32m/net/flood/home/theloni/audio-rc-rtl/exploration/optim/ens_optim.py:510\u001b[0m, in \u001b[0;36mHybridEnsGradOptimizer._weight_update\u001b[0;34m(self)\u001b[0m\n\u001b[1;32m    508\u001b[0m \u001b[38;5;28;01mwith\u001b[39;00m torch\u001b[38;5;241m.\u001b[39mno_grad():\n\u001b[1;32m    509\u001b[0m     \u001b[38;5;28msuper\u001b[39m()\u001b[38;5;241m.\u001b[39m_weight_update()\n\u001b[0;32m--> 510\u001b[0m     \u001b[38;5;28;43mself\u001b[39;49m\u001b[38;5;241;43m.\u001b[39;49m\u001b[43m_gen_grad_update\u001b[49m\u001b[43m(\u001b[49m\u001b[43m)\u001b[49m\n\u001b[1;32m    511\u001b[0m     \u001b[38;5;28mself\u001b[39m\u001b[38;5;241m.\u001b[39m_weight_ens_host \u001b[38;5;241m-\u001b[39m\u001b[38;5;241m=\u001b[39m \u001b[38;5;28mself\u001b[39m\u001b[38;5;241m.\u001b[39mgrad_update\u001b[38;5;241m.\u001b[39munsqueeze(\u001b[38;5;241m-\u001b[39m\u001b[38;5;241m1\u001b[39m)\n",
      "File \u001b[0;32m/net/flood/home/theloni/audio-rc-rtl/exploration/optim/ens_optim.py:498\u001b[0m, in \u001b[0;36mHybridEnsGradOptimizer._gen_grad_update\u001b[0;34m(self)\u001b[0m\n\u001b[1;32m    495\u001b[0m update \u001b[38;5;241m=\u001b[39m adjusted_lr \u001b[38;5;241m*\u001b[39m exp_avg \u001b[38;5;241m/\u001b[39m exp_avg_sq\u001b[38;5;241m.\u001b[39msqrt()\u001b[38;5;241m.\u001b[39madd(\u001b[38;5;28mself\u001b[39m\u001b[38;5;241m.\u001b[39meps)\n\u001b[1;32m    497\u001b[0m relevant_dyn_idxs \u001b[38;5;241m=\u001b[39m \u001b[38;5;28mself\u001b[39m\u001b[38;5;241m.\u001b[39mdyn_idxs[active_mask] \u001b[38;5;241m-\u001b[39m grad_param_ptr\n\u001b[0;32m--> 498\u001b[0m \u001b[38;5;28mself\u001b[39m\u001b[38;5;241m.\u001b[39mgrad_update[active_mask] \u001b[38;5;241m=\u001b[39m \u001b[43mupdate\u001b[49m\u001b[38;5;241;43m.\u001b[39;49m\u001b[43mview\u001b[49m\u001b[43m(\u001b[49m\u001b[38;5;241;43m-\u001b[39;49m\u001b[38;5;241;43m1\u001b[39;49m\u001b[43m)\u001b[49m[relevant_dyn_idxs]\n\u001b[1;32m    500\u001b[0m grad_param_ptr \u001b[38;5;241m+\u001b[39m\u001b[38;5;241m=\u001b[39m param\u001b[38;5;241m.\u001b[39mdata\u001b[38;5;241m.\u001b[39mnumel()\n",
      "\u001b[0;31mKeyboardInterrupt\u001b[0m: "
     ]
    }
   ],
   "source": [
    "# L1reg = 1e-5\n",
    "\n",
    "NEPOCH = 500\n",
    "for i in tqdm(range(NEPOCH)):\n",
    "    ensopt.forward_model.train()\n",
    "    l, u, prec = None, None, None\n",
    "    for j, (X, _, y) in enumerate(train_gen):\n",
    "        if X.shape[0] != BATCH:\n",
    "                continue\n",
    "        with torch.no_grad():\n",
    "            X, y = pqmf(X.cuda()), y.cuda()\n",
    "        Y = F.one_hot(y, 10)\n",
    "\n",
    "        loss_closure = lambda: F.cross_entropy(ensopt.forward_model(X)[..., 0], y) #+ L1reg*dict(uut.named_modules())['2'].w_out.abs().sum()\n",
    "\n",
    "        l, u, prec = ensopt.ens_step(X, Y.float(), loss_closure)\n",
    "    ensopt.ens_lr = ens_sched.step()\n",
    "    ensopt.grad_lr = grad_sched.step()\n",
    "\n",
    "    ensopt.forward_model.eval()\n",
    "    with torch.no_grad():\n",
    "        readout(i, u, prec)"
   ]
  },
  {
   "cell_type": "code",
   "execution_count": null,
   "metadata": {},
   "outputs": [],
   "source": [
    "named_ckpts = list(uut.named_parameters())\n",
    "for name, ckpt in named_ckpts:\n",
    "    torch.save(ckpt, f\"ckpt/{name}_epoch{NEPOCH}.tensor\")"
   ]
  },
  {
   "cell_type": "code",
   "execution_count": 17,
   "metadata": {},
   "outputs": [],
   "source": [
    "val_X, _, val_y = next(iter(val_gen))\n",
    "val_X, val_y = val_X.cuda(), val_y.cuda()"
   ]
  },
  {
   "cell_type": "code",
   "execution_count": 18,
   "metadata": {},
   "outputs": [],
   "source": [
    "yhat = pltr(uut(pqmf(val_X))[..., 0].argmax(1))"
   ]
  },
  {
   "cell_type": "code",
   "execution_count": 19,
   "metadata": {},
   "outputs": [
    {
     "data": {
      "text/plain": [
       "<matplotlib.legend.Legend at 0x7f95c00c99d0>"
      ]
     },
     "execution_count": 19,
     "metadata": {},
     "output_type": "execute_result"
    },
    {
     "data": {
      "image/png": "[encoded data removed]",
      "text/plain": [
       "<Figure size 640x480 with 1 Axes>"
      ]
     },
     "metadata": {},
     "output_type": "display_data"
    }
   ],
   "source": [
    "plt.hist(pltr(val_y), bins=10, label='digit counts')\n",
    "plt.hist(yhat, bins=10, label='predicted digit counts')\n",
    "plt.legend()"
   ]
  },
  {
   "cell_type": "code",
   "execution_count": 20,
   "metadata": {},
   "outputs": [
    {
     "data": {
      "image/png": "[encoded data removed]",
      "text/plain": [
       "<Figure size 800x600 with 2 Axes>"
      ]
     },
     "metadata": {},
     "output_type": "display_data"
    }
   ],
   "source": [
    "cm = confusion_matrix(pltr(val_y), yhat)\n",
    "\n",
    "# Plot confusion matrix\n",
    "plt.figure(figsize=(8, 6))\n",
    "sns.heatmap(cm, annot=True, fmt='d', cmap='magma', xticklabels=np.unique(pltr(val_y)), yticklabels=np.unique(pltr(val_y)))\n",
    "plt.xlabel('Predicted Labels')\n",
    "plt.ylabel('True Labels')\n",
    "plt.title('Confusion')\n",
    "plt.show()"
   ]
  }
 ],
 "metadata": {
  "kernelspec": {
   "display_name": "iir-torch",
   "language": "python",
   "name": "python3"
  },
  "language_info": {
   "codemirror_mode": {
    "name": "ipython",
    "version": 3
   },
   "file_extension": ".py",
   "mimetype": "text/x-python",
   "name": "python",
   "nbconvert_exporter": "python",
   "pygments_lexer": "ipython3",
   "version": "3.11.5"
  }
 },
 "nbformat": 4,
 "nbformat_minor": 2
}

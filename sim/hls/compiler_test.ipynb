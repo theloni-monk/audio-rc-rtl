{
 "cells": [
  {
   "cell_type": "code",
   "execution_count": 1,
   "metadata": {},
   "outputs": [],
   "source": [
    "import onnx\n",
    "from onnx import helper\n",
    "from onnx import TensorProto\n",
    "import numpy as np"
   ]
  },
  {
   "cell_type": "code",
   "execution_count": 2,
   "metadata": {},
   "outputs": [
    {
     "data": {
      "text/plain": [
       "ir_version: 10\n",
       "graph {\n",
       "  node {\n",
       "    input: \"X\"\n",
       "    input: \"scale\"\n",
       "    input: \"B\"\n",
       "    input: \"rmean\"\n",
       "    input: \"rvar\"\n",
       "    output: \"Y\"\n",
       "    name: \"onnx_bn\"\n",
       "    op_type: \"BatchNormalization\"\n",
       "  }\n",
       "  name: \"testgraph\"\n",
       "  initializer {\n",
       "    dims: 5\n",
       "    data_type: 1\n",
       "    float_data: 0.403519511\n",
       "    float_data: 0.849108338\n",
       "    float_data: 0.604992449\n",
       "    float_data: 0.468352437\n",
       "    float_data: 0.891701639\n",
       "    name: \"scale\"\n",
       "  }\n",
       "  initializer {\n",
       "    dims: 5\n",
       "    data_type: 1\n",
       "    float_data: 0.436821193\n",
       "    float_data: 0.183469296\n",
       "    float_data: 0.467202842\n",
       "    float_data: 0.872814715\n",
       "    float_data: 0.314055055\n",
       "    name: \"B\"\n",
       "  }\n",
       "  initializer {\n",
       "    dims: 5\n",
       "    data_type: 1\n",
       "    float_data: 0.483134866\n",
       "    float_data: 0.130410939\n",
       "    float_data: 0.556482792\n",
       "    float_data: 0.469330132\n",
       "    float_data: 0.891790748\n",
       "    name: \"rmean\"\n",
       "  }\n",
       "  initializer {\n",
       "    dims: 5\n",
       "    data_type: 1\n",
       "    float_data: 0.246146366\n",
       "    float_data: 0.90143317\n",
       "    float_data: 0.789942503\n",
       "    float_data: 0.560744822\n",
       "    float_data: 0.779639363\n",
       "    name: \"rvar\"\n",
       "  }\n",
       "  input {\n",
       "    name: \"X\"\n",
       "    type {\n",
       "      tensor_type {\n",
       "        elem_type: 1\n",
       "        shape {\n",
       "          dim {\n",
       "            dim_value: 1\n",
       "          }\n",
       "          dim {\n",
       "            dim_value: 5\n",
       "          }\n",
       "        }\n",
       "      }\n",
       "    }\n",
       "  }\n",
       "  output {\n",
       "    name: \"Y\"\n",
       "    type {\n",
       "      tensor_type {\n",
       "        elem_type: 1\n",
       "        shape {\n",
       "          dim {\n",
       "            dim_value: 1\n",
       "          }\n",
       "          dim {\n",
       "            dim_value: 5\n",
       "          }\n",
       "        }\n",
       "      }\n",
       "    }\n",
       "  }\n",
       "}\n",
       "opset_import {\n",
       "  version: 19\n",
       "}"
      ]
     },
     "execution_count": 2,
     "metadata": {},
     "output_type": "execute_result"
    }
   ],
   "source": [
    "in_dim = 5\n",
    "out_dim = 5\n",
    "\n",
    "X = helper.make_tensor_value_info(f\"X\", TensorProto.FLOAT, [1, in_dim])\n",
    "Y = helper.make_tensor_value_info(f\"Y\", TensorProto.FLOAT, [1, out_dim])\n",
    "rmean = helper.make_tensor(f\"rmean\", TensorProto.FLOAT, [in_dim],\n",
    "                            np.random.rand(in_dim))\n",
    "rvar = helper.make_tensor(f\"rvar\", TensorProto.FLOAT, [in_dim],\n",
    "                            np.random.rand(in_dim))\n",
    "\n",
    "scale = helper.make_tensor(f\"scale\", TensorProto.FLOAT, [in_dim],\n",
    "                            np.random.rand(out_dim))\n",
    "bias = helper.make_tensor(f\"B\", TensorProto.FLOAT, [in_dim],\n",
    "                            np.random.rand(in_dim))\n",
    "\n",
    "bn_node = helper.make_node(\"BatchNormalization\",\n",
    "                           [\"X\", \"scale\", \"B\", \"rmean\", \"rvar\"],\n",
    "                           [\"Y\"],\n",
    "                           name=\"onnx_bn\")\n",
    "grf = helper.make_graph([bn_node], \"testgraph\",\n",
    "                        [X],\n",
    "                        [Y],\n",
    "                        [scale, bias, rmean, rvar])\n",
    "\n",
    "opset = onnx.OperatorSetIdProto()\n",
    "opset.version = 19\n",
    "mdl = helper.make_model(grf, opset_imports = [opset])\n",
    "\n",
    "onnx.checker.check_model(mdl)\n",
    "onnx.shape_inference.infer_shapes(mdl, check_type=True, strict_mode=True, data_prop=True)"
   ]
  },
  {
   "cell_type": "code",
   "execution_count": 3,
   "metadata": {},
   "outputs": [
    {
     "data": {
      "text/plain": [
       "[v_fifo_0:(1x5) [[0, wr_data_0, rd_data_0, wr_en_0, rd_en_0, v_fifo_0_out_vec_valid_0, 0]],\n",
       " vwb_mac_0:(1x5) [[in_data_ready, rd_data_0, wr_data_1, rd_en_0, wr_en_1, vwb_mac_0_out_vec_valid_0]],\n",
       " v_fifo_1:(1x5) [[0, wr_data_1, rd_data_1, wr_en_1, rd_en_1, v_fifo_1_out_vec_valid_1, 0]]]"
      ]
     },
     "execution_count": 3,
     "metadata": {},
     "output_type": "execute_result"
    }
   ],
   "source": [
    "from compiler import parsemodel, svimpl\n",
    "spec = svimpl.FPGASpec(120, 600_000, 2_700_000, 100_000)\n",
    "fpga_module = parsemodel.parse_model(mdl, in_dim, spec)\n",
    "fpga_module.modules"
   ]
  },
  {
   "cell_type": "code",
   "execution_count": 4,
   "metadata": {},
   "outputs": [
    {
     "data": {
      "text/plain": [
       "1"
      ]
     },
     "execution_count": 4,
     "metadata": {},
     "output_type": "execute_result"
    }
   ],
   "source": [
    "len(fpga_module.modules[1].wfile.buffer.shape)"
   ]
  },
  {
   "cell_type": "code",
   "execution_count": 5,
   "metadata": {},
   "outputs": [],
   "source": [
    "fpga_module.alloc_regs()\n",
    "fpga_module.alloc_bram()\n",
    "sv = fpga_module.make_sv()"
   ]
  },
  {
   "cell_type": "code",
   "execution_count": 6,
   "metadata": {},
   "outputs": [
    {
     "data": {
      "text/plain": [
       "\"{'name': 'rd_data_0', 'defined': True, 'num_elements': 5, 'n_bits': 8, 'tie_zero': False}\""
      ]
     },
     "execution_count": 6,
     "metadata": {},
     "output_type": "execute_result"
    }
   ],
   "source": [
    "fpga_module.modules[0].write_out_data.debug()"
   ]
  },
  {
   "cell_type": "code",
   "execution_count": 7,
   "metadata": {},
   "outputs": [
    {
     "name": "stdout",
     "output_type": "stream",
     "text": [
      "('\\n'\n",
      " '\\n'\n",
      " 'logic [7:0] in_data_master;\\n'\n",
      " 'logic [4:0][7:0] rd_data_0;\\n'\n",
      " 'logic  wr_in_master;\\n'\n",
      " 'logic  rd_en_0;\\n'\n",
      " 'logic  v_fifo_0_out_vec_valid_0;\\n'\n",
      " 'logic  wrap_rd_0;\\n'\n",
      " 'v_fifo #(\\n'\n",
      " '        .VecElements(5),\\n'\n",
      " '        .ElementsPerRead(5),\\n'\n",
      " '        .ElementsPerWrite(1),\\n'\n",
      " '        .NBits(8)\\n'\n",
      " '        .Depth(1))\\n'\n",
      " '        v_fifo_0\\n'\n",
      " '        (\\n'\n",
      " '            .clk_in(clk_100mhz),\\n'\n",
      " '            .rst_in(sys_rst),\\n'\n",
      " '            .wr_en(wr_in_master),\\n'\n",
      " '            .wr_data(in_data_master),\\n'\n",
      " '            .rd_en(rd_en_0),\\n'\n",
      " '            .rd_data(rd_data_0),\\n'\n",
      " '            .wrap_rd(0)\\n'\n",
      " '        );\\n'\n",
      " '\\n'\n",
      " '\\n'\n",
      " 'logic [7:0] wr_data_1;\\n'\n",
      " 'logic [4:0][7:0] out_data_master;\\n'\n",
      " 'logic  wr_en_1;\\n'\n",
      " 'logic  rd_out_master;\\n'\n",
      " 'logic  v_fifo_1_out_vec_valid_1;\\n'\n",
      " 'logic  wrap_rd_1;\\n'\n",
      " 'v_fifo #(\\n'\n",
      " '        .VecElements(5),\\n'\n",
      " '        .ElementsPerRead(5),\\n'\n",
      " '        .ElementsPerWrite(5),\\n'\n",
      " '        .NBits(8)\\n'\n",
      " '        .Depth(1))\\n'\n",
      " '        v_fifo_1\\n'\n",
      " '        (\\n'\n",
      " '            .clk_in(clk_100mhz),\\n'\n",
      " '            .rst_in(sys_rst),\\n'\n",
      " '            .wr_en(wr_en_1),\\n'\n",
      " '            .wr_data(wr_data_1),\\n'\n",
      " '            .rd_en(rd_out_master),\\n'\n",
      " '            .rd_data(out_data_master),\\n'\n",
      " '            .wrap_rd(0)\\n'\n",
      " '        );\\n'\n",
      " '\\n'\n",
      " '\\n'\n",
      " 'module MLInference(\\n'\n",
      " '    input wire clk_in,\\n'\n",
      " '    input wire rst_in,\\n'\n",
      " '    input wire in_data_ready,\\n'\n",
      " '    output logic out_data_ready\\n'\n",
      " ');\\n'\n",
      " '\\n'\n",
      " '  \\n'\n",
      " '\\n'\n",
      " '\\n'\n",
      " '\\n'\n",
      " '\\n'\n",
      " '\\n'\n",
      " 'vwb_mac #(  .InVecLength(5),\\n'\n",
      " '            .WorkingRegs(5),\\n'\n",
      " '            .NBits(8),\\n'\n",
      " '            .WeightFile(onnx_bn_weight),\\n'\n",
      " '            .BiasFile(\"onnx_bn_bias\"))\\n'\n",
      " '        vwb_mac_0\\n'\n",
      " '        (\\n'\n",
      " '            .clk_in(clk_in),\\n'\n",
      " '            .rst_in(rst_in),\\n'\n",
      " '            .in_data_ready(in_data_ready),\\n'\n",
      " '            .in_data(rd_data_0),\\n'\n",
      " '            .write_out_data(wr_data_1),\\n'\n",
      " '            .req_chunk_in(rd_en_0),\\n'\n",
      " '            .req_chunk_out(wr_en_1),\\n'\n",
      " '            .out_vector_valid(out_data_ready)\\n'\n",
      " '        );\\n'\n",
      " '\\n'\n",
      " '\\n'\n",
      " 'endmodule;\\n'\n",
      " '\\n'\n",
      " 'logic ml_inf_valid;\\n'\n",
      " 'MLInference ml_inf(\\n'\n",
      " '    .clk_in(clk_100mhz),\\n'\n",
      " '    .rst_in(sys_rst),\\n'\n",
      " '    .in_data_ready(in_data_ready_master),\\n'\n",
      " '    .out_data_ready(ml_inf_valid)\\n'\n",
      " ');\\n')\n"
     ]
    }
   ],
   "source": [
    "import pprint\n",
    "pprint.pprint(sv)"
   ]
  },
  {
   "cell_type": "code",
   "execution_count": 8,
   "metadata": {},
   "outputs": [],
   "source": [
    "with open(\"dummy_model.sv\", 'w') as f:\n",
    "    f.write(sv)"
   ]
  }
 ],
 "metadata": {
  "kernelspec": {
   "display_name": "6s965",
   "language": "python",
   "name": "python3"
  },
  "language_info": {
   "codemirror_mode": {
    "name": "ipython",
    "version": 3
   },
   "file_extension": ".py",
   "mimetype": "text/x-python",
   "name": "python",
   "nbconvert_exporter": "python",
   "pygments_lexer": "ipython3",
   "version": "3.10.15"
  }
 },
 "nbformat": 4,
 "nbformat_minor": 2
}

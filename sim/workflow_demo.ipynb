{
 "cells": [
  {
   "cell_type": "code",
   "execution_count": 1,
   "metadata": {},
   "outputs": [],
   "source": [
    "import torch\n",
    "from torch import nn\n",
    "import torch.nn.functional as F"
   ]
  },
  {
   "cell_type": "code",
   "execution_count": 2,
   "metadata": {},
   "outputs": [],
   "source": [
    "class MyNewModel(nn.Module):\n",
    "    def __init__(self):\n",
    "        super().__init__()\n",
    "        self.lin1 = nn.Linear(10, 20)\n",
    "        self.act1 = nn.LeakyReLU(1/128)\n",
    "        self.lin2 = nn.Linear(20, 40)\n",
    "        self.act2 = nn.LeakyReLU(1/128)\n",
    "        self.lin3 = nn.Linear(40, 3)\n",
    "\n",
    "    def forward(self, x):\n",
    "        x = self.lin1(x)\n",
    "        x = self.act1(x)\n",
    "        x = self.lin2(x)\n",
    "        x = self.act2(x)\n",
    "        return self.lin3(x)\n"
   ]
  },
  {
   "cell_type": "code",
   "execution_count": 3,
   "metadata": {},
   "outputs": [],
   "source": [
    "my_torch_model = MyNewModel()"
   ]
  },
  {
   "cell_type": "code",
   "execution_count": 4,
   "metadata": {},
   "outputs": [],
   "source": [
    "indata = torch.randn(1, 10)\n",
    "outdata = my_torch_model(indata)"
   ]
  },
  {
   "cell_type": "code",
   "execution_count": 7,
   "metadata": {},
   "outputs": [],
   "source": [
    "# my_onnx_model = torch.onnx.dynamo_export(my_torch_model, (torch.randn(10, 1)))\n",
    "torch.onnx.export(my_torch_model, (torch.randn(1, 10)),\"data/demo_model.onnx\")"
   ]
  },
  {
   "cell_type": "code",
   "execution_count": 16,
   "metadata": {},
   "outputs": [],
   "source": [
    "import onnx\n",
    "from hls.compiler import parsemodel, svimpl\n",
    "def make_testing_tl(dim, tlname):\n",
    "    mdl = onnx.load(\"data/demo_model.onnx\")\n",
    "    # Xilinx Spartan-7 Spec\n",
    "    spec = svimpl.FPGASpec(120, 600_000, 2_700_000, 100_000)\n",
    "    fpga_module = parsemodel.gen_chain_sv_top(mdl, dim, spec)\n",
    "    fpga_module.alloc_regs()\n",
    "    fpga_module.alloc_bram(\"\")\n",
    "    fpga_module.tlname = tlname\n",
    "    sv = fpga_module.make_sv()\n",
    "\n",
    "    return mdl, sv, fpga_module"
   ]
  },
  {
   "cell_type": "code",
   "execution_count": 17,
   "metadata": {},
   "outputs": [],
   "source": [
    "import cocotb\n",
    "import numpy as np\n",
    "import onnx\n",
    "from cocotb.runner import get_runner"
   ]
  },
  {
   "cell_type": "code",
   "execution_count": 18,
   "metadata": {},
   "outputs": [],
   "source": [
    "from cocotb.utils import get_sim_time as gst\n",
    "from onnx import TensorProto\n",
    "from onnx import helper as onnxhelp\n",
    "from bespoketb.bespoke import *\n",
    "from bespoketb.boards import EpsScoreboard\n",
    "from bespoketb.ctb_util import *"
   ]
  },
  {
   "cell_type": "code",
   "execution_count": null,
   "metadata": {},
   "outputs": [],
   "source": []
  },
  {
   "cell_type": "code",
   "execution_count": 19,
   "metadata": {},
   "outputs": [],
   "source": [
    "test = \"\"\"\n",
    "class DemoTester(BspkModuleTester):\n",
    "    def __init__(self, dut, modelpath, in_dim, debug, **kwargs):\n",
    "        board = EpsScoreboard(0.01, debug, dut)\n",
    "        super().__init__(dut, modelpath, in_dim, board, False, debug, **kwargs)\n",
    "\n",
    "    def _gen_indata(self):\n",
    "        return 0.2*np.random.randn(self.in_dim).astype(dtype=np.float32)\n",
    "CYCLES = 10\n",
    "@cocotb.test()\n",
    "async def demo_test(dut):\n",
    "    #cocotb test for vwbmacc\n",
    "    tlen = int(os.getenv(\"TLEN\"))\n",
    "    mdl_dim = int(os.getenv(\"MDIM\"))\n",
    "    mdl_path = os.getenv(\"MPATH\")\n",
    "    debug = os.getenv(\"DEBUG\") == \"True\"\n",
    "    if debug:\n",
    "        print(\"DEBUGGING\", os.environ)\n",
    "    test = DemoTester(dut, mdl_path, mdl_dim, debug)\n",
    "    await test.startup()\n",
    "\n",
    "    await test.run_io_test(tlen)\n",
    "\n",
    "    await ClockCycles(dut.clk_in, tlen * CYCLES)\n",
    "    dut._log.info(\n",
    "        f\"Processed {test.inm.stats.received_transactions} transactions in and {test.outm.stats.received_transactions} out\"\n",
    "    )\n",
    "    assert (\n",
    "        test.inm.stats.received_transactions == test.outm.stats.received_transactions\n",
    "    ), f\"Transaction Count doesn't match! :/\"\n",
    "    dut._log.info(\n",
    "        f\"maximum float err between recieved and expected: {test.scoreboard.maxerr}\"\n",
    "    )\n",
    "\"\"\""
   ]
  },
  {
   "cell_type": "code",
   "execution_count": 20,
   "metadata": {},
   "outputs": [],
   "source": [
    "import inspect"
   ]
  },
  {
   "cell_type": "code",
   "execution_count": 21,
   "metadata": {},
   "outputs": [],
   "source": [
    "imports = \"\"\"\n",
    "import os\n",
    "import cocotb\n",
    "from bespoketb.bespoke import *\n",
    "from bespoketb.boards import EpsScoreboard\n",
    "from bespoketb.ctb_util import *\n",
    "\"\"\"\n",
    "with open(\"demo_test.py\", 'w') as f:\n",
    "    f.write(imports)\n",
    "    f.write(test)"
   ]
  },
  {
   "cell_type": "code",
   "execution_count": 22,
   "metadata": {},
   "outputs": [],
   "source": [
    "import os\n",
    "import sys\n",
    "from pathlib import Path\n",
    "def test_runner():\n",
    "    \"\"\"Simulate the counter using the Python runner.\"\"\"\n",
    "    sim = os.getenv(\"SIM\", \"icarus\")\n",
    "    proj_path = Path(os.path.abspath(\"..\"))\n",
    "    print(proj_path)\n",
    "    sys.path.append(str(proj_path / \"sim\" / \"model\"))\n",
    "\n",
    "    sys.path.append(str(proj_path / \"sim\"))\n",
    "\n",
    "    runner = get_runner(sim)\n",
    "    runner.build(\n",
    "        hdl_toplevel=\"demo_dummy_tl\",\n",
    "        always=True,\n",
    "        build_args=[\"-Wall\"],\n",
    "        timescale=(\"1ns\", \"1ps\"),\n",
    "        waves=True,\n",
    "        verilog_sources = [\"../hdl/interface/v_fifo.sv\",\n",
    "                           \"../hdl/mlops/vwb_gemm.sv\",\n",
    "                           \"../hdl/mlops/mac1d.sv\",\n",
    "                           \"../hdl/mlops/addertree.sv\",\n",
    "                           \"../hdl/mlops/v_leakyrelu.sv\",\n",
    "                           \"../hdl/dummymodels/demo_dummy_tl.sv\",\n",
    "                           \"../hdl/interface/xilinx_single_port_ram_read_first.v\" ],\n",
    "        log_file=\"dump.log\",\n",
    "        verbose=True\n",
    "        )\n",
    "\n",
    "    # sys.path.append(str(Path.absolute(\"../sim\")))\n",
    "    runner.test(\n",
    "        test_module=\"demo_test\",\n",
    "        hdl_toplevel=\"demo_dummy_tl\",\n",
    "        extra_env = {\"MDIM\":\"10\", \"MPATH\":\"data/demo_model.onnx\", \"TLEN\":\"25\", \"DEBUG\":\"True\"},\n",
    "        verbose=True,\n",
    "        waves=True\n",
    "    )\n"
   ]
  },
  {
   "cell_type": "code",
   "execution_count": 24,
   "metadata": {},
   "outputs": [
    {
     "name": "stdout",
     "output_type": "stream",
     "text": [
      "WRITING BRAM WITH SHAPE (20, 10) 2 TO data\\_lin1_Gemm_weight.mem CHUNKS 10\n",
      "WRITING BRAM WITH SHAPE (20,) 1 TO data\\_lin1_Gemm_bias.mem CHUNKS 1\n",
      "WRITING BRAM WITH SHAPE (40, 20) 2 TO data\\_lin2_Gemm_weight.mem CHUNKS 20\n",
      "WRITING BRAM WITH SHAPE (40,) 1 TO data\\_lin2_Gemm_bias.mem CHUNKS 1\n",
      "WRITING BRAM WITH SHAPE (3, 40) 2 TO data\\_lin3_Gemm_weight.mem CHUNKS 40\n",
      "WRITING BRAM WITH SHAPE (3,) 1 TO data\\_lin3_Gemm_bias.mem CHUNKS 1\n",
      "c:\\Users\\TheoA\\Documents\\MIT\\SENIORSLIDE\\6.S965 Digital Systems Lab II\\Final Proj\\audio-rc-rtl\n",
      "INFO: Running command iverilog -o 'C:\\Users\\TheoA\\Documents\\MIT\\SENIORSLIDE\\6.S965 Digital Systems Lab II\\Final Proj\\audio-rc-rtl\\sim\\sim_build\\sim.vvp' -D COCOTB_SIM=1 -s demo_dummy_tl -g2012 -Wall -s cocotb_iverilog_dump -f 'C:\\Users\\TheoA\\Documents\\MIT\\SENIORSLIDE\\6.S965 Digital Systems Lab II\\Final Proj\\audio-rc-rtl\\sim\\sim_build\\cmds.f' 'C:\\Users\\TheoA\\Documents\\MIT\\SENIORSLIDE\\6.S965 Digital Systems Lab II\\Final Proj\\audio-rc-rtl\\hdl\\interface\\v_fifo.sv' 'C:\\Users\\TheoA\\Documents\\MIT\\SENIORSLIDE\\6.S965 Digital Systems Lab II\\Final Proj\\audio-rc-rtl\\hdl\\mlops\\vwb_gemm.sv' 'C:\\Users\\TheoA\\Documents\\MIT\\SENIORSLIDE\\6.S965 Digital Systems Lab II\\Final Proj\\audio-rc-rtl\\hdl\\mlops\\mac1d.sv' 'C:\\Users\\TheoA\\Documents\\MIT\\SENIORSLIDE\\6.S965 Digital Systems Lab II\\Final Proj\\audio-rc-rtl\\hdl\\mlops\\addertree.sv' 'C:\\Users\\TheoA\\Documents\\MIT\\SENIORSLIDE\\6.S965 Digital Systems Lab II\\Final Proj\\audio-rc-rtl\\hdl\\mlops\\v_leakyrelu.sv' 'C:\\Users\\TheoA\\Documents\\MIT\\SENIORSLIDE\\6.S965 Digital Systems Lab II\\Final Proj\\audio-rc-rtl\\hdl\\dummymodels\\demo_dummy_tl.sv' 'C:\\Users\\TheoA\\Documents\\MIT\\SENIORSLIDE\\6.S965 Digital Systems Lab II\\Final Proj\\audio-rc-rtl\\hdl\\interface\\xilinx_single_port_ram_read_first.v' 'C:\\Users\\TheoA\\Documents\\MIT\\SENIORSLIDE\\6.S965 Digital Systems Lab II\\Final Proj\\audio-rc-rtl\\sim\\sim_build\\cocotb_iverilog_dump.v' in directory C:\\Users\\TheoA\\Documents\\MIT\\SENIORSLIDE\\6.S965 Digital Systems Lab II\\Final Proj\\audio-rc-rtl\\sim\\sim_build\n",
      "INFO: Running command vvp -M C:/Users/TheoA/Anaconda3/envs/6s965/Lib/site-packages/cocotb/libs -m cocotbvpi_icarus 'C:\\Users\\TheoA\\Documents\\MIT\\SENIORSLIDE\\6.S965 Digital Systems Lab II\\Final Proj\\audio-rc-rtl\\sim\\sim_build\\sim.vvp' -fst in directory C:\\Users\\TheoA\\Documents\\MIT\\SENIORSLIDE\\6.S965 Digital Systems Lab II\\Final Proj\\audio-rc-rtl\\sim\\sim_build\n",
      "INFO: Results file: C:\\Users\\TheoA\\Documents\\MIT\\SENIORSLIDE\\6.S965 Digital Systems Lab II\\Final Proj\\audio-rc-rtl\\sim\\sim_build\\results.xml\n"
     ]
    }
   ],
   "source": [
    "tlname = \"demo_dummy_tl\"\n",
    "uut_mdl, sv, impl = make_testing_tl(10, tlname)\n",
    "with open(f\"../hdl/dummymodels/{tlname}.sv\", \"w\") as f:\n",
    "        f.write(sv)\n",
    "test_runner()"
   ]
  },
  {
   "cell_type": "code",
   "execution_count": 25,
   "metadata": {},
   "outputs": [
    {
     "name": "stdout",
     "output_type": "stream",
     "text": [
      "<testsuites name=\"results\">\n",
      "\n",
      "  <testsuite name=\"all\" package=\"all\">\n",
      "\n",
      "    <property name=\"random_seed\" value=\"1733975588\" />\n",
      "\n",
      "    <testcase name=\"demo_test\" classname=\"demo_test\" file=\"c:\\Users\\TheoA\\Documents\\MIT\\SENIORSLIDE\\6.S965 Digital Systems Lab II\\Final Proj\\audio-rc-rtl\\sim\\demo_test.py\" lineno=\"16\" time=\"0.023839712142944336\" sim_time_ns=\"0.001\" ratio_time=\"0.0419468152133692\">\n",
      "\n",
      "      <failure message=\"Test failed with RANDOM_SEED=1733975588\" />\n",
      "\n",
      "    </testcase>\n",
      "\n",
      "  </testsuite>\n",
      "\n",
      "</testsuites>\n",
      "\n"
     ]
    }
   ],
   "source": [
    "with open(os.path.abspath(\"./sim_build/results.xml\"), 'r') as f:\n",
    "    for l in f.readlines():\n",
    "        print(l)"
   ]
  },
  {
   "cell_type": "code",
   "execution_count": 27,
   "metadata": {},
   "outputs": [
    {
     "data": {
      "text/plain": [
       "(-1, 10)\n",
       "('vwb_gemm_0', (10, 20))\n",
       "fifo\n",
       "('v_leakyrelu_0', (20, 20))\n",
       "fifo\n",
       "('vwb_gemm_1', (20, 40))\n",
       "fifo\n",
       "('v_leakyrelu_1', (40, 40))\n",
       "fifo\n",
       "('vwb_gemm_2', (40, 3))\n",
       "(3, -1)"
      ]
     },
     "execution_count": 27,
     "metadata": {},
     "output_type": "execute_result"
    }
   ],
   "source": [
    "impl"
   ]
  }
 ],
 "metadata": {
  "kernelspec": {
   "display_name": "6s965",
   "language": "python",
   "name": "python3"
  },
  "language_info": {
   "codemirror_mode": {
    "name": "ipython",
    "version": 3
   },
   "file_extension": ".py",
   "mimetype": "text/x-python",
   "name": "python",
   "nbconvert_exporter": "python",
   "pygments_lexer": "ipython3",
   "version": "3.10.15"
  }
 },
 "nbformat": 4,
 "nbformat_minor": 2
}
